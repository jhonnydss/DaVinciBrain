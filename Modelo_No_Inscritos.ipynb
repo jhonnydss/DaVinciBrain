{
 "cells": [
  {
   "cell_type": "code",
   "execution_count": 635,
   "id": "f088c1fc",
   "metadata": {},
   "outputs": [],
   "source": [
    "import seaborn as sns\n",
    "import numpy as np\n",
    "import pandas as pd\n",
    "import seaborn as sns\n",
    "import matplotlib.pyplot as plt\n",
    "from sklearn.model_selection import train_test_split\n",
    "from sklearn.pipeline import make_pipeline\n",
    "from sklearn.preprocessing import StandardScaler\n",
    "from sklearn.metrics import roc_auc_score, RocCurveDisplay\n",
    "from sklearn.model_selection import train_test_split\n",
    "from sklearn.pipeline import make_pipeline\n",
    "from sklearn.preprocessing import StandardScaler\n",
    "from sklearn.metrics import classification_report\n",
    "from sklearn.compose import make_column_selector\n",
    "from sklearn.preprocessing import OneHotEncoder\n",
    "from sklearn.impute import SimpleImputer\n",
    "from sklearn.preprocessing import StandardScaler \n",
    "from sklearn.compose import make_column_transformer\n",
    "from sklearn.pipeline import make_pipeline\n",
    "from sklearn import set_config\n",
    "from xgboost import XGBClassifier\n",
    "from sklearn.metrics import roc_auc_score, RocCurveDisplay\n",
    "from sklearn.metrics import plot_confusion_matrix\n",
    "from sklearn.metrics import classification_report, confusion_matrix\n",
    "from sklearn.metrics import classification_report, ConfusionMatrixDisplay\n",
    "set_config(display='diagram')\n",
    "from sklearn.metrics import mean_squared_error\n",
    "from sklearn.metrics import mean_absolute_percentage_error\n",
    "from sklearn.metrics import r2_score\n",
    "from sklearn.model_selection import cross_val_score,RandomizedSearchCV,GridSearchCV\n",
    "from sklearn.metrics import accuracy_score,confusion_matrix,classification_report,precision_score,recall_score,f1_score,roc_auc_score,roc_curve\n",
    "from math import sqrt"
   ]
  },
  {
   "cell_type": "markdown",
   "id": "4e82ee43",
   "metadata": {},
   "source": [
    "## El siguiente modelo busca identificar quien o no se va inscribir en el bootcamp."
   ]
  },
  {
   "cell_type": "code",
   "execution_count": 636,
   "id": "8b27015b",
   "metadata": {},
   "outputs": [],
   "source": [
    "df = pd.read_csv(\"cleaned_inscritos.csv\")"
   ]
  },
  {
   "cell_type": "code",
   "execution_count": 637,
   "id": "c4a9e493",
   "metadata": {},
   "outputs": [
    {
     "data": {
      "text/html": [
       "<div>\n",
       "<style scoped>\n",
       "    .dataframe tbody tr th:only-of-type {\n",
       "        vertical-align: middle;\n",
       "    }\n",
       "\n",
       "    .dataframe tbody tr th {\n",
       "        vertical-align: top;\n",
       "    }\n",
       "\n",
       "    .dataframe thead th {\n",
       "        text-align: right;\n",
       "    }\n",
       "</style>\n",
       "<table border=\"1\" class=\"dataframe\">\n",
       "  <thead>\n",
       "    <tr style=\"text-align: right;\">\n",
       "      <th></th>\n",
       "      <th>Entrenamiento</th>\n",
       "      <th>Email</th>\n",
       "      <th>Egresado</th>\n",
       "      <th>Precios US</th>\n",
       "      <th>Incluye pasantia</th>\n",
       "      <th>Primer contacto</th>\n",
       "      <th>Estatus laboral</th>\n",
       "      <th>Razon de retiro</th>\n",
       "      <th>Razon de eleccion del bootcamp</th>\n",
       "      <th>Proveedores de bootcamp</th>\n",
       "      <th>Horario de los bootcamps</th>\n",
       "      <th>Primer contacto_Instagram</th>\n",
       "      <th>Primer contacto_WhatsApp</th>\n",
       "      <th>Incluye pasantia_0</th>\n",
       "      <th>Incluye pasantia_1</th>\n",
       "    </tr>\n",
       "  </thead>\n",
       "  <tbody>\n",
       "    <tr>\n",
       "      <th>0</th>\n",
       "      <td>Bootcamp en Desarrollo Web con C#</td>\n",
       "      <td>gmail.com</td>\n",
       "      <td>Inscrito</td>\n",
       "      <td>2900.0</td>\n",
       "      <td>0</td>\n",
       "      <td>Instagram</td>\n",
       "      <td>1</td>\n",
       "      <td>Poco tiempo/ Costo del bootcamp / Razones labo...</td>\n",
       "      <td>Crecimiento laboral</td>\n",
       "      <td>Maestros de Talendig</td>\n",
       "      <td>Lunes, miercoles y viernes de 6:00pm a 8:00 pm</td>\n",
       "      <td>1.0</td>\n",
       "      <td>0.0</td>\n",
       "      <td>1.0</td>\n",
       "      <td>0.0</td>\n",
       "    </tr>\n",
       "    <tr>\n",
       "      <th>1</th>\n",
       "      <td>Bootcamp en Desarrollo Web con C#</td>\n",
       "      <td>gmail.com</td>\n",
       "      <td>Inscrito</td>\n",
       "      <td>2900.0</td>\n",
       "      <td>0</td>\n",
       "      <td>Instagram</td>\n",
       "      <td>1</td>\n",
       "      <td>Costo del Bootcamp</td>\n",
       "      <td>Crecimiento laboral</td>\n",
       "      <td>Maestros de Talendig</td>\n",
       "      <td>Lunes, miercoles y viernes de 6:00pm a 8:00 pm</td>\n",
       "      <td>1.0</td>\n",
       "      <td>0.0</td>\n",
       "      <td>1.0</td>\n",
       "      <td>0.0</td>\n",
       "    </tr>\n",
       "    <tr>\n",
       "      <th>2</th>\n",
       "      <td>Bootcamp en Desarrollo Web con C#</td>\n",
       "      <td>gmail.com</td>\n",
       "      <td>Inscrito</td>\n",
       "      <td>2900.0</td>\n",
       "      <td>0</td>\n",
       "      <td>Instagram</td>\n",
       "      <td>1</td>\n",
       "      <td>NaN</td>\n",
       "      <td>Crecimiento laboral</td>\n",
       "      <td>Maestros de Talendig</td>\n",
       "      <td>Lunes, miercoles y viernes de 6:00pm a 8:00 pm</td>\n",
       "      <td>1.0</td>\n",
       "      <td>0.0</td>\n",
       "      <td>1.0</td>\n",
       "      <td>0.0</td>\n",
       "    </tr>\n",
       "    <tr>\n",
       "      <th>3</th>\n",
       "      <td>Bootcamp en Desarrollo Web con Java</td>\n",
       "      <td>gmail.com</td>\n",
       "      <td>Inscrito</td>\n",
       "      <td>2900.0</td>\n",
       "      <td>0</td>\n",
       "      <td>Instagram</td>\n",
       "      <td>0</td>\n",
       "      <td>NaN</td>\n",
       "      <td>Crecimiento laboral</td>\n",
       "      <td>Maestros de Talendig</td>\n",
       "      <td>Martes, jueves y viernes de 6:00 pm a 8:00 pm</td>\n",
       "      <td>1.0</td>\n",
       "      <td>0.0</td>\n",
       "      <td>1.0</td>\n",
       "      <td>0.0</td>\n",
       "    </tr>\n",
       "    <tr>\n",
       "      <th>4</th>\n",
       "      <td>Bootcamp en Desarrollo Web con Java</td>\n",
       "      <td>gmail.com</td>\n",
       "      <td>Inscrito</td>\n",
       "      <td>2900.0</td>\n",
       "      <td>0</td>\n",
       "      <td>Instagram</td>\n",
       "      <td>1</td>\n",
       "      <td>NaN</td>\n",
       "      <td>Crecimiento laboral</td>\n",
       "      <td>Maestros de Talendig</td>\n",
       "      <td>Martes, jueves y viernes de 6:00 pm a 8:00 pm</td>\n",
       "      <td>1.0</td>\n",
       "      <td>0.0</td>\n",
       "      <td>1.0</td>\n",
       "      <td>0.0</td>\n",
       "    </tr>\n",
       "    <tr>\n",
       "      <th>...</th>\n",
       "      <td>...</td>\n",
       "      <td>...</td>\n",
       "      <td>...</td>\n",
       "      <td>...</td>\n",
       "      <td>...</td>\n",
       "      <td>...</td>\n",
       "      <td>...</td>\n",
       "      <td>...</td>\n",
       "      <td>...</td>\n",
       "      <td>...</td>\n",
       "      <td>...</td>\n",
       "      <td>...</td>\n",
       "      <td>...</td>\n",
       "      <td>...</td>\n",
       "      <td>...</td>\n",
       "    </tr>\n",
       "    <tr>\n",
       "      <th>168</th>\n",
       "      <td>Cloud Engineer</td>\n",
       "      <td>gmail.com</td>\n",
       "      <td>No inscrito</td>\n",
       "      <td>2900.0</td>\n",
       "      <td>0</td>\n",
       "      <td>WhatsApp</td>\n",
       "      <td>0</td>\n",
       "      <td>Costo del Bootcamp</td>\n",
       "      <td>NaN</td>\n",
       "      <td>Maestros de Talendig</td>\n",
       "      <td>Luner, miercoles y viernes de 8: pm a 10:00 pm</td>\n",
       "      <td>0.0</td>\n",
       "      <td>1.0</td>\n",
       "      <td>1.0</td>\n",
       "      <td>0.0</td>\n",
       "    </tr>\n",
       "    <tr>\n",
       "      <th>169</th>\n",
       "      <td>Bootcamp en Desarrollo Web</td>\n",
       "      <td>gmail.com</td>\n",
       "      <td>No inscrito</td>\n",
       "      <td>2900.0</td>\n",
       "      <td>0</td>\n",
       "      <td>WhatsApp</td>\n",
       "      <td>0</td>\n",
       "      <td>Costo del Bootcamp</td>\n",
       "      <td>NaN</td>\n",
       "      <td>Maestros de Talendig</td>\n",
       "      <td>Lunes, miercoles y viernes de 8: pm a 10:00 pm</td>\n",
       "      <td>0.0</td>\n",
       "      <td>1.0</td>\n",
       "      <td>1.0</td>\n",
       "      <td>0.0</td>\n",
       "    </tr>\n",
       "    <tr>\n",
       "      <th>170</th>\n",
       "      <td>Bootcamp en Data Science y Machine Learning en...</td>\n",
       "      <td>gmail.com</td>\n",
       "      <td>No inscrito</td>\n",
       "      <td>3450.0</td>\n",
       "      <td>1</td>\n",
       "      <td>WhatsApp</td>\n",
       "      <td>0</td>\n",
       "      <td>NaN</td>\n",
       "      <td>NaN</td>\n",
       "      <td>Maestros de Talendig</td>\n",
       "      <td>Martes, Jueves y Sabados</td>\n",
       "      <td>0.0</td>\n",
       "      <td>1.0</td>\n",
       "      <td>0.0</td>\n",
       "      <td>1.0</td>\n",
       "    </tr>\n",
       "    <tr>\n",
       "      <th>171</th>\n",
       "      <td>Diseno UI/UX</td>\n",
       "      <td>gmail.com</td>\n",
       "      <td>No inscrito</td>\n",
       "      <td>2900.0</td>\n",
       "      <td>0</td>\n",
       "      <td>WhatsApp</td>\n",
       "      <td>0</td>\n",
       "      <td>NaN</td>\n",
       "      <td>NaN</td>\n",
       "      <td>Maestros de Talendig</td>\n",
       "      <td>Lunes, miercoles y jueves de 7:00 pm a 9:00 pm</td>\n",
       "      <td>0.0</td>\n",
       "      <td>1.0</td>\n",
       "      <td>1.0</td>\n",
       "      <td>0.0</td>\n",
       "    </tr>\n",
       "    <tr>\n",
       "      <th>172</th>\n",
       "      <td>Bootcamp en Data Science y Machine Learning en...</td>\n",
       "      <td>protonmail.com</td>\n",
       "      <td>No inscrito</td>\n",
       "      <td>3450.0</td>\n",
       "      <td>1</td>\n",
       "      <td>WhatsApp</td>\n",
       "      <td>0</td>\n",
       "      <td>NaN</td>\n",
       "      <td>NaN</td>\n",
       "      <td>Maestros de Talendig</td>\n",
       "      <td>Martes, Jueves y Sabados</td>\n",
       "      <td>0.0</td>\n",
       "      <td>1.0</td>\n",
       "      <td>0.0</td>\n",
       "      <td>1.0</td>\n",
       "    </tr>\n",
       "  </tbody>\n",
       "</table>\n",
       "<p>173 rows × 15 columns</p>\n",
       "</div>"
      ],
      "text/plain": [
       "                                         Entrenamiento           Email  \\\n",
       "0                    Bootcamp en Desarrollo Web con C#       gmail.com   \n",
       "1                    Bootcamp en Desarrollo Web con C#       gmail.com   \n",
       "2                    Bootcamp en Desarrollo Web con C#       gmail.com   \n",
       "3                  Bootcamp en Desarrollo Web con Java       gmail.com   \n",
       "4                  Bootcamp en Desarrollo Web con Java       gmail.com   \n",
       "..                                                 ...             ...   \n",
       "168                                     Cloud Engineer       gmail.com   \n",
       "169                         Bootcamp en Desarrollo Web       gmail.com   \n",
       "170  Bootcamp en Data Science y Machine Learning en...       gmail.com   \n",
       "171                                       Diseno UI/UX       gmail.com   \n",
       "172  Bootcamp en Data Science y Machine Learning en...  protonmail.com   \n",
       "\n",
       "        Egresado  Precios US  Incluye pasantia Primer contacto  \\\n",
       "0       Inscrito      2900.0                 0       Instagram   \n",
       "1       Inscrito      2900.0                 0       Instagram   \n",
       "2       Inscrito      2900.0                 0       Instagram   \n",
       "3       Inscrito      2900.0                 0       Instagram   \n",
       "4       Inscrito      2900.0                 0       Instagram   \n",
       "..           ...         ...               ...             ...   \n",
       "168  No inscrito      2900.0                 0        WhatsApp   \n",
       "169  No inscrito      2900.0                 0        WhatsApp   \n",
       "170  No inscrito      3450.0                 1        WhatsApp   \n",
       "171  No inscrito      2900.0                 0        WhatsApp   \n",
       "172  No inscrito      3450.0                 1        WhatsApp   \n",
       "\n",
       "     Estatus laboral                                    Razon de retiro  \\\n",
       "0                  1  Poco tiempo/ Costo del bootcamp / Razones labo...   \n",
       "1                  1                                 Costo del Bootcamp   \n",
       "2                  1                                                NaN   \n",
       "3                  0                                                NaN   \n",
       "4                  1                                                NaN   \n",
       "..               ...                                                ...   \n",
       "168                0                                 Costo del Bootcamp   \n",
       "169                0                                 Costo del Bootcamp   \n",
       "170                0                                                NaN   \n",
       "171                0                                                NaN   \n",
       "172                0                                                NaN   \n",
       "\n",
       "    Razon de eleccion del bootcamp Proveedores de bootcamp  \\\n",
       "0              Crecimiento laboral    Maestros de Talendig   \n",
       "1              Crecimiento laboral    Maestros de Talendig   \n",
       "2              Crecimiento laboral    Maestros de Talendig   \n",
       "3              Crecimiento laboral    Maestros de Talendig   \n",
       "4              Crecimiento laboral    Maestros de Talendig   \n",
       "..                             ...                     ...   \n",
       "168                            NaN    Maestros de Talendig   \n",
       "169                            NaN    Maestros de Talendig   \n",
       "170                            NaN    Maestros de Talendig   \n",
       "171                            NaN    Maestros de Talendig   \n",
       "172                            NaN    Maestros de Talendig   \n",
       "\n",
       "                           Horario de los bootcamps  \\\n",
       "0    Lunes, miercoles y viernes de 6:00pm a 8:00 pm   \n",
       "1    Lunes, miercoles y viernes de 6:00pm a 8:00 pm   \n",
       "2    Lunes, miercoles y viernes de 6:00pm a 8:00 pm   \n",
       "3     Martes, jueves y viernes de 6:00 pm a 8:00 pm   \n",
       "4     Martes, jueves y viernes de 6:00 pm a 8:00 pm   \n",
       "..                                              ...   \n",
       "168  Luner, miercoles y viernes de 8: pm a 10:00 pm   \n",
       "169  Lunes, miercoles y viernes de 8: pm a 10:00 pm   \n",
       "170                        Martes, Jueves y Sabados   \n",
       "171  Lunes, miercoles y jueves de 7:00 pm a 9:00 pm   \n",
       "172                        Martes, Jueves y Sabados   \n",
       "\n",
       "     Primer contacto_Instagram  Primer contacto_WhatsApp  Incluye pasantia_0  \\\n",
       "0                          1.0                       0.0                 1.0   \n",
       "1                          1.0                       0.0                 1.0   \n",
       "2                          1.0                       0.0                 1.0   \n",
       "3                          1.0                       0.0                 1.0   \n",
       "4                          1.0                       0.0                 1.0   \n",
       "..                         ...                       ...                 ...   \n",
       "168                        0.0                       1.0                 1.0   \n",
       "169                        0.0                       1.0                 1.0   \n",
       "170                        0.0                       1.0                 0.0   \n",
       "171                        0.0                       1.0                 1.0   \n",
       "172                        0.0                       1.0                 0.0   \n",
       "\n",
       "     Incluye pasantia_1  \n",
       "0                   0.0  \n",
       "1                   0.0  \n",
       "2                   0.0  \n",
       "3                   0.0  \n",
       "4                   0.0  \n",
       "..                  ...  \n",
       "168                 0.0  \n",
       "169                 0.0  \n",
       "170                 1.0  \n",
       "171                 0.0  \n",
       "172                 1.0  \n",
       "\n",
       "[173 rows x 15 columns]"
      ]
     },
     "execution_count": 637,
     "metadata": {},
     "output_type": "execute_result"
    }
   ],
   "source": [
    "df"
   ]
  },
  {
   "cell_type": "code",
   "execution_count": 638,
   "id": "f741586a",
   "metadata": {},
   "outputs": [
    {
     "data": {
      "text/plain": [
       "Entrenamiento                     15\n",
       "Email                              6\n",
       "Egresado                           2\n",
       "Precios US                         5\n",
       "Incluye pasantia                   2\n",
       "Primer contacto                    2\n",
       "Estatus laboral                    2\n",
       "Razon de retiro                    9\n",
       "Razon de eleccion del bootcamp     2\n",
       "Proveedores de bootcamp            2\n",
       "Horario de los bootcamps          12\n",
       "Primer contacto_Instagram          2\n",
       "Primer contacto_WhatsApp           2\n",
       "Incluye pasantia_0                 2\n",
       "Incluye pasantia_1                 2\n",
       "dtype: int64"
      ]
     },
     "execution_count": 638,
     "metadata": {},
     "output_type": "execute_result"
    }
   ],
   "source": [
    "df.nunique()"
   ]
  },
  {
   "cell_type": "code",
   "execution_count": 639,
   "id": "a67731fc",
   "metadata": {},
   "outputs": [
    {
     "name": "stdout",
     "output_type": "stream",
     "text": [
      "<class 'pandas.core.frame.DataFrame'>\n",
      "RangeIndex: 173 entries, 0 to 172\n",
      "Data columns (total 15 columns):\n",
      " #   Column                          Non-Null Count  Dtype  \n",
      "---  ------                          --------------  -----  \n",
      " 0   Entrenamiento                   173 non-null    object \n",
      " 1   Email                           173 non-null    object \n",
      " 2   Egresado                        173 non-null    object \n",
      " 3   Precios US                      173 non-null    float64\n",
      " 4   Incluye pasantia                173 non-null    int64  \n",
      " 5   Primer contacto                 173 non-null    object \n",
      " 6   Estatus laboral                 173 non-null    int64  \n",
      " 7   Razon de retiro                 26 non-null     object \n",
      " 8   Razon de eleccion del bootcamp  160 non-null    object \n",
      " 9   Proveedores de bootcamp         173 non-null    object \n",
      " 10  Horario de los bootcamps        173 non-null    object \n",
      " 11  Primer contacto_Instagram       173 non-null    float64\n",
      " 12  Primer contacto_WhatsApp        173 non-null    float64\n",
      " 13  Incluye pasantia_0              173 non-null    float64\n",
      " 14  Incluye pasantia_1              173 non-null    float64\n",
      "dtypes: float64(5), int64(2), object(8)\n",
      "memory usage: 20.4+ KB\n"
     ]
    }
   ],
   "source": [
    "df.info()"
   ]
  },
  {
   "cell_type": "code",
   "execution_count": 640,
   "id": "fd6091b0",
   "metadata": {},
   "outputs": [],
   "source": [
    "df1 = df"
   ]
  },
  {
   "cell_type": "code",
   "execution_count": 641,
   "id": "88917b4b",
   "metadata": {},
   "outputs": [],
   "source": [
    "class preprocesamiento:\n",
    " \n",
    "    def __init__(self, dataset):\n",
    "        \n",
    "        self.dataSet = dataset\n",
    "        \n",
    "    def deleteColumns(self, obj):\n",
    "        \n",
    "        self.dataSet.drop(columns=obj, inplace=True)\n",
    "        print(f\"Columns drops {obj}\")\n",
    "        \n",
    "        return self.dataSet\n",
    "        \n",
    "\n",
    "    def findNullValues(self):\n",
    "        \n",
    "        cols = self.dataSet.columns \n",
    "        print(\"*****COUNT OF NULL DATA BY COLUMNS*****\\n\\n\")\n",
    "        for index in range(0,len(cols)):\n",
    "            print(f\"{ cols[index] } : { len(self.dataSet[cols[index]][self.dataSet[cols[index]].isnull() == True]) } \\n\")\n",
    "                   \n",
    "        \n",
    "    \n",
    "    def findAtypical(self):\n",
    "            \n",
    "            \n",
    "            print(\"*****ATYPICAL DATA *****\\n\\n\")\n",
    "            catCols = make_column_selector(dtype_include='object')\n",
    "            \n",
    "            #Muestra las columnas categoricas para seleccionarlas mas facilmente\n",
    "            print(catCols(self.dataSet))\n",
    "            \n",
    "            colsObj = {}\n",
    "            reponse = \"\"\n",
    "            inputcols =  input(\"Ingresa las columns categoricas separadas por ',' : \")\n",
    "            colSplit = inputcols.split(',')\n",
    "           \n",
    "            for index in range(0, len(colSplit)):\n",
    "                \n",
    "                #Verificar el % de datos\n",
    "                porcentaje = (len(df1[colSplit[index].strip()]) - len(self.dataSet[colSplit[index].strip()][self.dataSet[colSplit[index].strip()].isnull() == True]) )  / len(self.dataSet[colSplit[index].strip()])\n",
    "                \n",
    "                 #Verificar si tienes datos atipicos\n",
    "                \n",
    "                colsObj[colSplit[index].strip()] = list(self.dataSet[colSplit[index].strip()].unique()) \n",
    "                colsObj[colSplit[index].strip()].append(\"%{:.2f}\".format(porcentaje))\n",
    "               \n",
    "               \n",
    "            #Creamos un string para mostras de maneras mas legible los datos\n",
    "            for key in colsObj:\n",
    "                reponse += f\"{key} : {colsObj[key]} \\n\"\n",
    "               \n",
    "            print(\"\\n********** RESULTS **********\\n\")   \n",
    "            return reponse             \n",
    "    \n",
    "    def codingAtypicalData(self,col, key='', value=''):\n",
    "         \n",
    "      \n",
    "        opcion = input(f\"Selecciona el tipo de codificacion que desea: \\n 1. Codificacion ordinal \\n 2. Codificacion OneHotEncoder\")\n",
    "        \n",
    "        if opcion == \"1\":\n",
    "            \n",
    "            return self.ordinalCoding(col, key, value)\n",
    "        \n",
    "        if opcion == \"2\":\n",
    "            \n",
    "            return self.oneCodification(col)\n",
    "        \n",
    "       \n",
    "     \n",
    "    \n",
    "    def ordinalCoding(self, col, key, value):\n",
    "            \n",
    "        dataSet = self.dataSet\n",
    "  \n",
    "        if len(value) == 0:\n",
    "          \n",
    "            for key in col.keys():\n",
    "       \n",
    "               dataSet[key].replace(col[key], inplace=True)\n",
    "        \n",
    "               print(f'Data replaced : \\n \"{key} : {col[key]}\" \\n')\n",
    "\n",
    "        if len(value) == 1:\n",
    "            \n",
    "            for index in range(0, len(dataSet[col])):\n",
    "                \n",
    "                dataSet[col][index] = re.sub(f\"[{key}]\", value, dataSet[col][index])    \n",
    "               \n",
    "\n",
    "        return dataSet\n",
    "            \n",
    "            \n",
    "    def oneCodification(self, col):\n",
    "        \n",
    "        \n",
    "        for index in range(0, len(col)):\n",
    "            newValue = self.dataSet[col[index]].mode()\n",
    "            \n",
    "            if  (self.dataSet[col[index]].isnull().sum() > 0):\n",
    "\n",
    "                self.dataSet[col[index]][self.dataSet[col[index]].isnull() == True] = newValue[0]\n",
    "\n",
    "\n",
    "            ohe = OneHotEncoder(handle_unknown='ignore')\n",
    "\n",
    "            encoded_data = ohe.fit_transform(self.dataSet[[col[index]]])          \n",
    "\n",
    "            encoded_df = pd.DataFrame(data=encoded_data.toarray(),columns=ohe.get_feature_names_out(input_features=[col[index]]))                                                        \n",
    "\n",
    "            self.dataSet = pd.concat([self.dataSet, encoded_df], axis=1)\n",
    "\n",
    "\n",
    "        return self.dataSet\n",
    "    \n",
    "    def emailType(self, col):\n",
    "        \n",
    "        dataSet = self.dataSet[col]\n",
    "        emailCompany = \"\"\n",
    "        response = []\n",
    "        \n",
    "        for index in range(0,len(dataSet)):\n",
    "            \n",
    "            emailCompany = dataSet[index].split('@')  \n",
    "            self.dataSet[col][index] = emailCompany[1]\n",
    "       \n",
    "        return self.dataSet\n",
    "\n",
    "ready_class = preprocesamiento(df1)"
   ]
  },
  {
   "cell_type": "code",
   "execution_count": 642,
   "id": "a1d6d03f",
   "metadata": {},
   "outputs": [
    {
     "name": "stdout",
     "output_type": "stream",
     "text": [
      "*****COUNT OF NULL DATA BY COLUMNS*****\n",
      "\n",
      "\n",
      "Entrenamiento : 0 \n",
      "\n",
      "Email : 0 \n",
      "\n",
      "Egresado : 0 \n",
      "\n",
      "Precios US : 0 \n",
      "\n",
      "Incluye pasantia : 0 \n",
      "\n",
      "Primer contacto : 0 \n",
      "\n",
      "Estatus laboral : 0 \n",
      "\n",
      "Razon de retiro : 147 \n",
      "\n",
      "Razon de eleccion del bootcamp : 13 \n",
      "\n",
      "Proveedores de bootcamp : 0 \n",
      "\n",
      "Horario de los bootcamps : 0 \n",
      "\n",
      "Primer contacto_Instagram : 0 \n",
      "\n",
      "Primer contacto_WhatsApp : 0 \n",
      "\n",
      "Incluye pasantia_0 : 0 \n",
      "\n",
      "Incluye pasantia_1 : 0 \n",
      "\n"
     ]
    }
   ],
   "source": [
    "ready_class.findNullValues()"
   ]
  },
  {
   "cell_type": "code",
   "execution_count": 643,
   "id": "2c4effdd",
   "metadata": {},
   "outputs": [
    {
     "name": "stdout",
     "output_type": "stream",
     "text": [
      "Selecciona el tipo de codificacion que desea: \n",
      " 1. Codificacion ordinal \n",
      " 2. Codificacion OneHotEncoder1\n",
      "Data replaced : \n",
      " \"Razon de eleccion del bootcamp : {nan: 'Otras Razones', 'Crecimiento laboral / Networking / Aprender algo nuevo / Requirimiento de empleador / Decision propia': 'Crecimiento laboral'}\" \n",
      "\n",
      "Data replaced : \n",
      " \"Proveedores de bootcamp : {'Talendig': 'Maestros de Talendig'}\" \n",
      "\n",
      "Data replaced : \n",
      " \"Razon de retiro : {nan: 'Otros Motivos'}\" \n",
      "\n"
     ]
    },
    {
     "data": {
      "text/html": [
       "<div>\n",
       "<style scoped>\n",
       "    .dataframe tbody tr th:only-of-type {\n",
       "        vertical-align: middle;\n",
       "    }\n",
       "\n",
       "    .dataframe tbody tr th {\n",
       "        vertical-align: top;\n",
       "    }\n",
       "\n",
       "    .dataframe thead th {\n",
       "        text-align: right;\n",
       "    }\n",
       "</style>\n",
       "<table border=\"1\" class=\"dataframe\">\n",
       "  <thead>\n",
       "    <tr style=\"text-align: right;\">\n",
       "      <th></th>\n",
       "      <th>Entrenamiento</th>\n",
       "      <th>Email</th>\n",
       "      <th>Egresado</th>\n",
       "      <th>Precios US</th>\n",
       "      <th>Incluye pasantia</th>\n",
       "      <th>Primer contacto</th>\n",
       "      <th>Estatus laboral</th>\n",
       "      <th>Razon de retiro</th>\n",
       "      <th>Razon de eleccion del bootcamp</th>\n",
       "      <th>Proveedores de bootcamp</th>\n",
       "      <th>Horario de los bootcamps</th>\n",
       "      <th>Primer contacto_Instagram</th>\n",
       "      <th>Primer contacto_WhatsApp</th>\n",
       "      <th>Incluye pasantia_0</th>\n",
       "      <th>Incluye pasantia_1</th>\n",
       "    </tr>\n",
       "  </thead>\n",
       "  <tbody>\n",
       "    <tr>\n",
       "      <th>0</th>\n",
       "      <td>Bootcamp en Desarrollo Web con C#</td>\n",
       "      <td>gmail.com</td>\n",
       "      <td>Inscrito</td>\n",
       "      <td>2900.0</td>\n",
       "      <td>0</td>\n",
       "      <td>Instagram</td>\n",
       "      <td>1</td>\n",
       "      <td>Poco tiempo/ Costo del bootcamp / Razones labo...</td>\n",
       "      <td>Crecimiento laboral</td>\n",
       "      <td>Maestros de Talendig</td>\n",
       "      <td>Lunes, miercoles y viernes de 6:00pm a 8:00 pm</td>\n",
       "      <td>1.0</td>\n",
       "      <td>0.0</td>\n",
       "      <td>1.0</td>\n",
       "      <td>0.0</td>\n",
       "    </tr>\n",
       "    <tr>\n",
       "      <th>1</th>\n",
       "      <td>Bootcamp en Desarrollo Web con C#</td>\n",
       "      <td>gmail.com</td>\n",
       "      <td>Inscrito</td>\n",
       "      <td>2900.0</td>\n",
       "      <td>0</td>\n",
       "      <td>Instagram</td>\n",
       "      <td>1</td>\n",
       "      <td>Costo del Bootcamp</td>\n",
       "      <td>Crecimiento laboral</td>\n",
       "      <td>Maestros de Talendig</td>\n",
       "      <td>Lunes, miercoles y viernes de 6:00pm a 8:00 pm</td>\n",
       "      <td>1.0</td>\n",
       "      <td>0.0</td>\n",
       "      <td>1.0</td>\n",
       "      <td>0.0</td>\n",
       "    </tr>\n",
       "    <tr>\n",
       "      <th>2</th>\n",
       "      <td>Bootcamp en Desarrollo Web con C#</td>\n",
       "      <td>gmail.com</td>\n",
       "      <td>Inscrito</td>\n",
       "      <td>2900.0</td>\n",
       "      <td>0</td>\n",
       "      <td>Instagram</td>\n",
       "      <td>1</td>\n",
       "      <td>Otros Motivos</td>\n",
       "      <td>Crecimiento laboral</td>\n",
       "      <td>Maestros de Talendig</td>\n",
       "      <td>Lunes, miercoles y viernes de 6:00pm a 8:00 pm</td>\n",
       "      <td>1.0</td>\n",
       "      <td>0.0</td>\n",
       "      <td>1.0</td>\n",
       "      <td>0.0</td>\n",
       "    </tr>\n",
       "    <tr>\n",
       "      <th>3</th>\n",
       "      <td>Bootcamp en Desarrollo Web con Java</td>\n",
       "      <td>gmail.com</td>\n",
       "      <td>Inscrito</td>\n",
       "      <td>2900.0</td>\n",
       "      <td>0</td>\n",
       "      <td>Instagram</td>\n",
       "      <td>0</td>\n",
       "      <td>Otros Motivos</td>\n",
       "      <td>Crecimiento laboral</td>\n",
       "      <td>Maestros de Talendig</td>\n",
       "      <td>Martes, jueves y viernes de 6:00 pm a 8:00 pm</td>\n",
       "      <td>1.0</td>\n",
       "      <td>0.0</td>\n",
       "      <td>1.0</td>\n",
       "      <td>0.0</td>\n",
       "    </tr>\n",
       "    <tr>\n",
       "      <th>4</th>\n",
       "      <td>Bootcamp en Desarrollo Web con Java</td>\n",
       "      <td>gmail.com</td>\n",
       "      <td>Inscrito</td>\n",
       "      <td>2900.0</td>\n",
       "      <td>0</td>\n",
       "      <td>Instagram</td>\n",
       "      <td>1</td>\n",
       "      <td>Otros Motivos</td>\n",
       "      <td>Crecimiento laboral</td>\n",
       "      <td>Maestros de Talendig</td>\n",
       "      <td>Martes, jueves y viernes de 6:00 pm a 8:00 pm</td>\n",
       "      <td>1.0</td>\n",
       "      <td>0.0</td>\n",
       "      <td>1.0</td>\n",
       "      <td>0.0</td>\n",
       "    </tr>\n",
       "    <tr>\n",
       "      <th>...</th>\n",
       "      <td>...</td>\n",
       "      <td>...</td>\n",
       "      <td>...</td>\n",
       "      <td>...</td>\n",
       "      <td>...</td>\n",
       "      <td>...</td>\n",
       "      <td>...</td>\n",
       "      <td>...</td>\n",
       "      <td>...</td>\n",
       "      <td>...</td>\n",
       "      <td>...</td>\n",
       "      <td>...</td>\n",
       "      <td>...</td>\n",
       "      <td>...</td>\n",
       "      <td>...</td>\n",
       "    </tr>\n",
       "    <tr>\n",
       "      <th>168</th>\n",
       "      <td>Cloud Engineer</td>\n",
       "      <td>gmail.com</td>\n",
       "      <td>No inscrito</td>\n",
       "      <td>2900.0</td>\n",
       "      <td>0</td>\n",
       "      <td>WhatsApp</td>\n",
       "      <td>0</td>\n",
       "      <td>Costo del Bootcamp</td>\n",
       "      <td>Otras Razones</td>\n",
       "      <td>Maestros de Talendig</td>\n",
       "      <td>Luner, miercoles y viernes de 8: pm a 10:00 pm</td>\n",
       "      <td>0.0</td>\n",
       "      <td>1.0</td>\n",
       "      <td>1.0</td>\n",
       "      <td>0.0</td>\n",
       "    </tr>\n",
       "    <tr>\n",
       "      <th>169</th>\n",
       "      <td>Bootcamp en Desarrollo Web</td>\n",
       "      <td>gmail.com</td>\n",
       "      <td>No inscrito</td>\n",
       "      <td>2900.0</td>\n",
       "      <td>0</td>\n",
       "      <td>WhatsApp</td>\n",
       "      <td>0</td>\n",
       "      <td>Costo del Bootcamp</td>\n",
       "      <td>Otras Razones</td>\n",
       "      <td>Maestros de Talendig</td>\n",
       "      <td>Lunes, miercoles y viernes de 8: pm a 10:00 pm</td>\n",
       "      <td>0.0</td>\n",
       "      <td>1.0</td>\n",
       "      <td>1.0</td>\n",
       "      <td>0.0</td>\n",
       "    </tr>\n",
       "    <tr>\n",
       "      <th>170</th>\n",
       "      <td>Bootcamp en Data Science y Machine Learning en...</td>\n",
       "      <td>gmail.com</td>\n",
       "      <td>No inscrito</td>\n",
       "      <td>3450.0</td>\n",
       "      <td>1</td>\n",
       "      <td>WhatsApp</td>\n",
       "      <td>0</td>\n",
       "      <td>Otros Motivos</td>\n",
       "      <td>Otras Razones</td>\n",
       "      <td>Maestros de Talendig</td>\n",
       "      <td>Martes, Jueves y Sabados</td>\n",
       "      <td>0.0</td>\n",
       "      <td>1.0</td>\n",
       "      <td>0.0</td>\n",
       "      <td>1.0</td>\n",
       "    </tr>\n",
       "    <tr>\n",
       "      <th>171</th>\n",
       "      <td>Diseno UI/UX</td>\n",
       "      <td>gmail.com</td>\n",
       "      <td>No inscrito</td>\n",
       "      <td>2900.0</td>\n",
       "      <td>0</td>\n",
       "      <td>WhatsApp</td>\n",
       "      <td>0</td>\n",
       "      <td>Otros Motivos</td>\n",
       "      <td>Otras Razones</td>\n",
       "      <td>Maestros de Talendig</td>\n",
       "      <td>Lunes, miercoles y jueves de 7:00 pm a 9:00 pm</td>\n",
       "      <td>0.0</td>\n",
       "      <td>1.0</td>\n",
       "      <td>1.0</td>\n",
       "      <td>0.0</td>\n",
       "    </tr>\n",
       "    <tr>\n",
       "      <th>172</th>\n",
       "      <td>Bootcamp en Data Science y Machine Learning en...</td>\n",
       "      <td>protonmail.com</td>\n",
       "      <td>No inscrito</td>\n",
       "      <td>3450.0</td>\n",
       "      <td>1</td>\n",
       "      <td>WhatsApp</td>\n",
       "      <td>0</td>\n",
       "      <td>Otros Motivos</td>\n",
       "      <td>Otras Razones</td>\n",
       "      <td>Maestros de Talendig</td>\n",
       "      <td>Martes, Jueves y Sabados</td>\n",
       "      <td>0.0</td>\n",
       "      <td>1.0</td>\n",
       "      <td>0.0</td>\n",
       "      <td>1.0</td>\n",
       "    </tr>\n",
       "  </tbody>\n",
       "</table>\n",
       "<p>173 rows × 15 columns</p>\n",
       "</div>"
      ],
      "text/plain": [
       "                                         Entrenamiento           Email  \\\n",
       "0                    Bootcamp en Desarrollo Web con C#       gmail.com   \n",
       "1                    Bootcamp en Desarrollo Web con C#       gmail.com   \n",
       "2                    Bootcamp en Desarrollo Web con C#       gmail.com   \n",
       "3                  Bootcamp en Desarrollo Web con Java       gmail.com   \n",
       "4                  Bootcamp en Desarrollo Web con Java       gmail.com   \n",
       "..                                                 ...             ...   \n",
       "168                                     Cloud Engineer       gmail.com   \n",
       "169                         Bootcamp en Desarrollo Web       gmail.com   \n",
       "170  Bootcamp en Data Science y Machine Learning en...       gmail.com   \n",
       "171                                       Diseno UI/UX       gmail.com   \n",
       "172  Bootcamp en Data Science y Machine Learning en...  protonmail.com   \n",
       "\n",
       "        Egresado  Precios US  Incluye pasantia Primer contacto  \\\n",
       "0       Inscrito      2900.0                 0       Instagram   \n",
       "1       Inscrito      2900.0                 0       Instagram   \n",
       "2       Inscrito      2900.0                 0       Instagram   \n",
       "3       Inscrito      2900.0                 0       Instagram   \n",
       "4       Inscrito      2900.0                 0       Instagram   \n",
       "..           ...         ...               ...             ...   \n",
       "168  No inscrito      2900.0                 0        WhatsApp   \n",
       "169  No inscrito      2900.0                 0        WhatsApp   \n",
       "170  No inscrito      3450.0                 1        WhatsApp   \n",
       "171  No inscrito      2900.0                 0        WhatsApp   \n",
       "172  No inscrito      3450.0                 1        WhatsApp   \n",
       "\n",
       "     Estatus laboral                                    Razon de retiro  \\\n",
       "0                  1  Poco tiempo/ Costo del bootcamp / Razones labo...   \n",
       "1                  1                                 Costo del Bootcamp   \n",
       "2                  1                                      Otros Motivos   \n",
       "3                  0                                      Otros Motivos   \n",
       "4                  1                                      Otros Motivos   \n",
       "..               ...                                                ...   \n",
       "168                0                                 Costo del Bootcamp   \n",
       "169                0                                 Costo del Bootcamp   \n",
       "170                0                                      Otros Motivos   \n",
       "171                0                                      Otros Motivos   \n",
       "172                0                                      Otros Motivos   \n",
       "\n",
       "    Razon de eleccion del bootcamp Proveedores de bootcamp  \\\n",
       "0              Crecimiento laboral    Maestros de Talendig   \n",
       "1              Crecimiento laboral    Maestros de Talendig   \n",
       "2              Crecimiento laboral    Maestros de Talendig   \n",
       "3              Crecimiento laboral    Maestros de Talendig   \n",
       "4              Crecimiento laboral    Maestros de Talendig   \n",
       "..                             ...                     ...   \n",
       "168                  Otras Razones    Maestros de Talendig   \n",
       "169                  Otras Razones    Maestros de Talendig   \n",
       "170                  Otras Razones    Maestros de Talendig   \n",
       "171                  Otras Razones    Maestros de Talendig   \n",
       "172                  Otras Razones    Maestros de Talendig   \n",
       "\n",
       "                           Horario de los bootcamps  \\\n",
       "0    Lunes, miercoles y viernes de 6:00pm a 8:00 pm   \n",
       "1    Lunes, miercoles y viernes de 6:00pm a 8:00 pm   \n",
       "2    Lunes, miercoles y viernes de 6:00pm a 8:00 pm   \n",
       "3     Martes, jueves y viernes de 6:00 pm a 8:00 pm   \n",
       "4     Martes, jueves y viernes de 6:00 pm a 8:00 pm   \n",
       "..                                              ...   \n",
       "168  Luner, miercoles y viernes de 8: pm a 10:00 pm   \n",
       "169  Lunes, miercoles y viernes de 8: pm a 10:00 pm   \n",
       "170                        Martes, Jueves y Sabados   \n",
       "171  Lunes, miercoles y jueves de 7:00 pm a 9:00 pm   \n",
       "172                        Martes, Jueves y Sabados   \n",
       "\n",
       "     Primer contacto_Instagram  Primer contacto_WhatsApp  Incluye pasantia_0  \\\n",
       "0                          1.0                       0.0                 1.0   \n",
       "1                          1.0                       0.0                 1.0   \n",
       "2                          1.0                       0.0                 1.0   \n",
       "3                          1.0                       0.0                 1.0   \n",
       "4                          1.0                       0.0                 1.0   \n",
       "..                         ...                       ...                 ...   \n",
       "168                        0.0                       1.0                 1.0   \n",
       "169                        0.0                       1.0                 1.0   \n",
       "170                        0.0                       1.0                 0.0   \n",
       "171                        0.0                       1.0                 1.0   \n",
       "172                        0.0                       1.0                 0.0   \n",
       "\n",
       "     Incluye pasantia_1  \n",
       "0                   0.0  \n",
       "1                   0.0  \n",
       "2                   0.0  \n",
       "3                   0.0  \n",
       "4                   0.0  \n",
       "..                  ...  \n",
       "168                 0.0  \n",
       "169                 0.0  \n",
       "170                 1.0  \n",
       "171                 0.0  \n",
       "172                 1.0  \n",
       "\n",
       "[173 rows x 15 columns]"
      ]
     },
     "execution_count": 643,
     "metadata": {},
     "output_type": "execute_result"
    }
   ],
   "source": [
    "# Reemplazo y codificacion de los valores atipicos y nulos\n",
    "\n",
    "codingData = {'Razon de eleccion del bootcamp' : {np.nan:'Otras Razones','Crecimiento laboral / Networking / Aprender algo nuevo / Requirimiento de empleador / Decision propia':'Crecimiento laboral'},\n",
    "             'Proveedores de bootcamp' : {'Talendig':'Maestros de Talendig'},\n",
    "             'Razon de retiro': {np.nan:'Otros Motivos'}}\n",
    "\n",
    "   \n",
    "ready_class.codingAtypicalData(codingData)"
   ]
  },
  {
   "cell_type": "code",
   "execution_count": 644,
   "id": "24ddf044",
   "metadata": {},
   "outputs": [
    {
     "name": "stdout",
     "output_type": "stream",
     "text": [
      "<class 'pandas.core.frame.DataFrame'>\n",
      "RangeIndex: 173 entries, 0 to 172\n",
      "Data columns (total 15 columns):\n",
      " #   Column                          Non-Null Count  Dtype  \n",
      "---  ------                          --------------  -----  \n",
      " 0   Entrenamiento                   173 non-null    object \n",
      " 1   Email                           173 non-null    object \n",
      " 2   Egresado                        173 non-null    object \n",
      " 3   Precios US                      173 non-null    float64\n",
      " 4   Incluye pasantia                173 non-null    int64  \n",
      " 5   Primer contacto                 173 non-null    object \n",
      " 6   Estatus laboral                 173 non-null    int64  \n",
      " 7   Razon de retiro                 173 non-null    object \n",
      " 8   Razon de eleccion del bootcamp  173 non-null    object \n",
      " 9   Proveedores de bootcamp         173 non-null    object \n",
      " 10  Horario de los bootcamps        173 non-null    object \n",
      " 11  Primer contacto_Instagram       173 non-null    float64\n",
      " 12  Primer contacto_WhatsApp        173 non-null    float64\n",
      " 13  Incluye pasantia_0              173 non-null    float64\n",
      " 14  Incluye pasantia_1              173 non-null    float64\n",
      "dtypes: float64(5), int64(2), object(8)\n",
      "memory usage: 20.4+ KB\n"
     ]
    }
   ],
   "source": [
    "df.info()"
   ]
  },
  {
   "cell_type": "code",
   "execution_count": 645,
   "id": "4147e4c5",
   "metadata": {},
   "outputs": [
    {
     "data": {
      "text/plain": [
       "array(['Inscrito', 'No inscrito'], dtype=object)"
      ]
     },
     "execution_count": 645,
     "metadata": {},
     "output_type": "execute_result"
    }
   ],
   "source": [
    "df['Egresado'].unique()"
   ]
  },
  {
   "cell_type": "code",
   "execution_count": 646,
   "id": "603c48ea",
   "metadata": {},
   "outputs": [
    {
     "data": {
      "text/plain": [
       "0    160\n",
       "1     13\n",
       "Name: Egresado, dtype: int64"
      ]
     },
     "execution_count": 646,
     "metadata": {},
     "output_type": "execute_result"
    }
   ],
   "source": [
    "df['Egresado'].replace({'Inscrito':0,'No inscrito':1}, inplace=True)\n",
    "df['Egresado'].value_counts()"
   ]
  },
  {
   "cell_type": "code",
   "execution_count": 647,
   "id": "a29f8310",
   "metadata": {},
   "outputs": [],
   "source": [
    "# Dividir\n",
    "X = df.drop(columns=['Egresado'])\n",
    "y = df['Egresado']\n",
    "X_train, X_test, y_train, y_test = train_test_split(X, y, test_size=0.2, random_state=1)"
   ]
  },
  {
   "cell_type": "code",
   "execution_count": 648,
   "id": "3bf9e965",
   "metadata": {},
   "outputs": [],
   "source": [
    "# Preprocesamiento"
   ]
  },
  {
   "cell_type": "code",
   "execution_count": 649,
   "id": "376c507c",
   "metadata": {},
   "outputs": [],
   "source": [
    "### Selectors\n",
    "cat_selector = make_column_selector(dtype_include='object')\n",
    "num_selector = make_column_selector(dtype_include='number')"
   ]
  },
  {
   "cell_type": "code",
   "execution_count": 650,
   "id": "35fe2cc6",
   "metadata": {},
   "outputs": [],
   "source": [
    "# Scaler\n",
    "scaler = StandardScaler()\n",
    "median_imputer = SimpleImputer(strategy='median')\n",
    "# One-hot encoder\n",
    "ohe = OneHotEncoder(handle_unknown='ignore', sparse=False)"
   ]
  },
  {
   "cell_type": "code",
   "execution_count": 651,
   "id": "8a04d1dd",
   "metadata": {},
   "outputs": [
    {
     "data": {
      "text/html": [
       "<style>#sk-0b240fa0-dada-4882-9651-6b87cfd5f27a {color: black;background-color: white;}#sk-0b240fa0-dada-4882-9651-6b87cfd5f27a pre{padding: 0;}#sk-0b240fa0-dada-4882-9651-6b87cfd5f27a div.sk-toggleable {background-color: white;}#sk-0b240fa0-dada-4882-9651-6b87cfd5f27a label.sk-toggleable__label {cursor: pointer;display: block;width: 100%;margin-bottom: 0;padding: 0.3em;box-sizing: border-box;text-align: center;}#sk-0b240fa0-dada-4882-9651-6b87cfd5f27a label.sk-toggleable__label-arrow:before {content: \"▸\";float: left;margin-right: 0.25em;color: #696969;}#sk-0b240fa0-dada-4882-9651-6b87cfd5f27a label.sk-toggleable__label-arrow:hover:before {color: black;}#sk-0b240fa0-dada-4882-9651-6b87cfd5f27a div.sk-estimator:hover label.sk-toggleable__label-arrow:before {color: black;}#sk-0b240fa0-dada-4882-9651-6b87cfd5f27a div.sk-toggleable__content {max-height: 0;max-width: 0;overflow: hidden;text-align: left;background-color: #f0f8ff;}#sk-0b240fa0-dada-4882-9651-6b87cfd5f27a div.sk-toggleable__content pre {margin: 0.2em;color: black;border-radius: 0.25em;background-color: #f0f8ff;}#sk-0b240fa0-dada-4882-9651-6b87cfd5f27a input.sk-toggleable__control:checked~div.sk-toggleable__content {max-height: 200px;max-width: 100%;overflow: auto;}#sk-0b240fa0-dada-4882-9651-6b87cfd5f27a input.sk-toggleable__control:checked~label.sk-toggleable__label-arrow:before {content: \"▾\";}#sk-0b240fa0-dada-4882-9651-6b87cfd5f27a div.sk-estimator input.sk-toggleable__control:checked~label.sk-toggleable__label {background-color: #d4ebff;}#sk-0b240fa0-dada-4882-9651-6b87cfd5f27a div.sk-label input.sk-toggleable__control:checked~label.sk-toggleable__label {background-color: #d4ebff;}#sk-0b240fa0-dada-4882-9651-6b87cfd5f27a input.sk-hidden--visually {border: 0;clip: rect(1px 1px 1px 1px);clip: rect(1px, 1px, 1px, 1px);height: 1px;margin: -1px;overflow: hidden;padding: 0;position: absolute;width: 1px;}#sk-0b240fa0-dada-4882-9651-6b87cfd5f27a div.sk-estimator {font-family: monospace;background-color: #f0f8ff;border: 1px dotted black;border-radius: 0.25em;box-sizing: border-box;margin-bottom: 0.5em;}#sk-0b240fa0-dada-4882-9651-6b87cfd5f27a div.sk-estimator:hover {background-color: #d4ebff;}#sk-0b240fa0-dada-4882-9651-6b87cfd5f27a div.sk-parallel-item::after {content: \"\";width: 100%;border-bottom: 1px solid gray;flex-grow: 1;}#sk-0b240fa0-dada-4882-9651-6b87cfd5f27a div.sk-label:hover label.sk-toggleable__label {background-color: #d4ebff;}#sk-0b240fa0-dada-4882-9651-6b87cfd5f27a div.sk-serial::before {content: \"\";position: absolute;border-left: 1px solid gray;box-sizing: border-box;top: 2em;bottom: 0;left: 50%;}#sk-0b240fa0-dada-4882-9651-6b87cfd5f27a div.sk-serial {display: flex;flex-direction: column;align-items: center;background-color: white;padding-right: 0.2em;padding-left: 0.2em;}#sk-0b240fa0-dada-4882-9651-6b87cfd5f27a div.sk-item {z-index: 1;}#sk-0b240fa0-dada-4882-9651-6b87cfd5f27a div.sk-parallel {display: flex;align-items: stretch;justify-content: center;background-color: white;}#sk-0b240fa0-dada-4882-9651-6b87cfd5f27a div.sk-parallel::before {content: \"\";position: absolute;border-left: 1px solid gray;box-sizing: border-box;top: 2em;bottom: 0;left: 50%;}#sk-0b240fa0-dada-4882-9651-6b87cfd5f27a div.sk-parallel-item {display: flex;flex-direction: column;position: relative;background-color: white;}#sk-0b240fa0-dada-4882-9651-6b87cfd5f27a div.sk-parallel-item:first-child::after {align-self: flex-end;width: 50%;}#sk-0b240fa0-dada-4882-9651-6b87cfd5f27a div.sk-parallel-item:last-child::after {align-self: flex-start;width: 50%;}#sk-0b240fa0-dada-4882-9651-6b87cfd5f27a div.sk-parallel-item:only-child::after {width: 0;}#sk-0b240fa0-dada-4882-9651-6b87cfd5f27a div.sk-dashed-wrapped {border: 1px dashed gray;margin: 0 0.4em 0.5em 0.4em;box-sizing: border-box;padding-bottom: 0.4em;background-color: white;position: relative;}#sk-0b240fa0-dada-4882-9651-6b87cfd5f27a div.sk-label label {font-family: monospace;font-weight: bold;background-color: white;display: inline-block;line-height: 1.2em;}#sk-0b240fa0-dada-4882-9651-6b87cfd5f27a div.sk-label-container {position: relative;z-index: 2;text-align: center;}#sk-0b240fa0-dada-4882-9651-6b87cfd5f27a div.sk-container {/* jupyter's `normalize.less` sets `[hidden] { display: none; }` but bootstrap.min.css set `[hidden] { display: none !important; }` so we also need the `!important` here to be able to override the default hidden behavior on the sphinx rendered scikit-learn.org. See: https://github.com/scikit-learn/scikit-learn/issues/21755 */display: inline-block !important;position: relative;}#sk-0b240fa0-dada-4882-9651-6b87cfd5f27a div.sk-text-repr-fallback {display: none;}</style><div id=\"sk-0b240fa0-dada-4882-9651-6b87cfd5f27a\" class=\"sk-top-container\"><div class=\"sk-text-repr-fallback\"><pre>Pipeline(steps=[(&#x27;standardscaler&#x27;, StandardScaler())])</pre><b>Please rerun this cell to show the HTML repr or trust the notebook.</b></div><div class=\"sk-container\" hidden><div class=\"sk-item sk-dashed-wrapped\"><div class=\"sk-label-container\"><div class=\"sk-label sk-toggleable\"><input class=\"sk-toggleable__control sk-hidden--visually\" id=\"95010c0c-14cf-4587-a441-f67b9f45d67e\" type=\"checkbox\" ><label for=\"95010c0c-14cf-4587-a441-f67b9f45d67e\" class=\"sk-toggleable__label sk-toggleable__label-arrow\">Pipeline</label><div class=\"sk-toggleable__content\"><pre>Pipeline(steps=[(&#x27;standardscaler&#x27;, StandardScaler())])</pre></div></div></div><div class=\"sk-serial\"><div class=\"sk-item\"><div class=\"sk-estimator sk-toggleable\"><input class=\"sk-toggleable__control sk-hidden--visually\" id=\"af184e47-6849-4de1-b6b2-ec45206d1389\" type=\"checkbox\" ><label for=\"af184e47-6849-4de1-b6b2-ec45206d1389\" class=\"sk-toggleable__label sk-toggleable__label-arrow\">StandardScaler</label><div class=\"sk-toggleable__content\"><pre>StandardScaler()</pre></div></div></div></div></div></div></div>"
      ],
      "text/plain": [
       "Pipeline(steps=[('standardscaler', StandardScaler())])"
      ]
     },
     "execution_count": 651,
     "metadata": {},
     "output_type": "execute_result"
    }
   ],
   "source": [
    "# Numeric pipeline\n",
    "numeric_pipe = make_pipeline(scaler)\n",
    "numeric_pipe"
   ]
  },
  {
   "cell_type": "code",
   "execution_count": 652,
   "id": "7690493f",
   "metadata": {},
   "outputs": [
    {
     "data": {
      "text/html": [
       "<style>#sk-ba7bae66-f6a2-4022-8dbb-e1c3c044cacc {color: black;background-color: white;}#sk-ba7bae66-f6a2-4022-8dbb-e1c3c044cacc pre{padding: 0;}#sk-ba7bae66-f6a2-4022-8dbb-e1c3c044cacc div.sk-toggleable {background-color: white;}#sk-ba7bae66-f6a2-4022-8dbb-e1c3c044cacc label.sk-toggleable__label {cursor: pointer;display: block;width: 100%;margin-bottom: 0;padding: 0.3em;box-sizing: border-box;text-align: center;}#sk-ba7bae66-f6a2-4022-8dbb-e1c3c044cacc label.sk-toggleable__label-arrow:before {content: \"▸\";float: left;margin-right: 0.25em;color: #696969;}#sk-ba7bae66-f6a2-4022-8dbb-e1c3c044cacc label.sk-toggleable__label-arrow:hover:before {color: black;}#sk-ba7bae66-f6a2-4022-8dbb-e1c3c044cacc div.sk-estimator:hover label.sk-toggleable__label-arrow:before {color: black;}#sk-ba7bae66-f6a2-4022-8dbb-e1c3c044cacc div.sk-toggleable__content {max-height: 0;max-width: 0;overflow: hidden;text-align: left;background-color: #f0f8ff;}#sk-ba7bae66-f6a2-4022-8dbb-e1c3c044cacc div.sk-toggleable__content pre {margin: 0.2em;color: black;border-radius: 0.25em;background-color: #f0f8ff;}#sk-ba7bae66-f6a2-4022-8dbb-e1c3c044cacc input.sk-toggleable__control:checked~div.sk-toggleable__content {max-height: 200px;max-width: 100%;overflow: auto;}#sk-ba7bae66-f6a2-4022-8dbb-e1c3c044cacc input.sk-toggleable__control:checked~label.sk-toggleable__label-arrow:before {content: \"▾\";}#sk-ba7bae66-f6a2-4022-8dbb-e1c3c044cacc div.sk-estimator input.sk-toggleable__control:checked~label.sk-toggleable__label {background-color: #d4ebff;}#sk-ba7bae66-f6a2-4022-8dbb-e1c3c044cacc div.sk-label input.sk-toggleable__control:checked~label.sk-toggleable__label {background-color: #d4ebff;}#sk-ba7bae66-f6a2-4022-8dbb-e1c3c044cacc input.sk-hidden--visually {border: 0;clip: rect(1px 1px 1px 1px);clip: rect(1px, 1px, 1px, 1px);height: 1px;margin: -1px;overflow: hidden;padding: 0;position: absolute;width: 1px;}#sk-ba7bae66-f6a2-4022-8dbb-e1c3c044cacc div.sk-estimator {font-family: monospace;background-color: #f0f8ff;border: 1px dotted black;border-radius: 0.25em;box-sizing: border-box;margin-bottom: 0.5em;}#sk-ba7bae66-f6a2-4022-8dbb-e1c3c044cacc div.sk-estimator:hover {background-color: #d4ebff;}#sk-ba7bae66-f6a2-4022-8dbb-e1c3c044cacc div.sk-parallel-item::after {content: \"\";width: 100%;border-bottom: 1px solid gray;flex-grow: 1;}#sk-ba7bae66-f6a2-4022-8dbb-e1c3c044cacc div.sk-label:hover label.sk-toggleable__label {background-color: #d4ebff;}#sk-ba7bae66-f6a2-4022-8dbb-e1c3c044cacc div.sk-serial::before {content: \"\";position: absolute;border-left: 1px solid gray;box-sizing: border-box;top: 2em;bottom: 0;left: 50%;}#sk-ba7bae66-f6a2-4022-8dbb-e1c3c044cacc div.sk-serial {display: flex;flex-direction: column;align-items: center;background-color: white;padding-right: 0.2em;padding-left: 0.2em;}#sk-ba7bae66-f6a2-4022-8dbb-e1c3c044cacc div.sk-item {z-index: 1;}#sk-ba7bae66-f6a2-4022-8dbb-e1c3c044cacc div.sk-parallel {display: flex;align-items: stretch;justify-content: center;background-color: white;}#sk-ba7bae66-f6a2-4022-8dbb-e1c3c044cacc div.sk-parallel::before {content: \"\";position: absolute;border-left: 1px solid gray;box-sizing: border-box;top: 2em;bottom: 0;left: 50%;}#sk-ba7bae66-f6a2-4022-8dbb-e1c3c044cacc div.sk-parallel-item {display: flex;flex-direction: column;position: relative;background-color: white;}#sk-ba7bae66-f6a2-4022-8dbb-e1c3c044cacc div.sk-parallel-item:first-child::after {align-self: flex-end;width: 50%;}#sk-ba7bae66-f6a2-4022-8dbb-e1c3c044cacc div.sk-parallel-item:last-child::after {align-self: flex-start;width: 50%;}#sk-ba7bae66-f6a2-4022-8dbb-e1c3c044cacc div.sk-parallel-item:only-child::after {width: 0;}#sk-ba7bae66-f6a2-4022-8dbb-e1c3c044cacc div.sk-dashed-wrapped {border: 1px dashed gray;margin: 0 0.4em 0.5em 0.4em;box-sizing: border-box;padding-bottom: 0.4em;background-color: white;position: relative;}#sk-ba7bae66-f6a2-4022-8dbb-e1c3c044cacc div.sk-label label {font-family: monospace;font-weight: bold;background-color: white;display: inline-block;line-height: 1.2em;}#sk-ba7bae66-f6a2-4022-8dbb-e1c3c044cacc div.sk-label-container {position: relative;z-index: 2;text-align: center;}#sk-ba7bae66-f6a2-4022-8dbb-e1c3c044cacc div.sk-container {/* jupyter's `normalize.less` sets `[hidden] { display: none; }` but bootstrap.min.css set `[hidden] { display: none !important; }` so we also need the `!important` here to be able to override the default hidden behavior on the sphinx rendered scikit-learn.org. See: https://github.com/scikit-learn/scikit-learn/issues/21755 */display: inline-block !important;position: relative;}#sk-ba7bae66-f6a2-4022-8dbb-e1c3c044cacc div.sk-text-repr-fallback {display: none;}</style><div id=\"sk-ba7bae66-f6a2-4022-8dbb-e1c3c044cacc\" class=\"sk-top-container\"><div class=\"sk-text-repr-fallback\"><pre>Pipeline(steps=[(&#x27;onehotencoder&#x27;,\n",
       "                 OneHotEncoder(handle_unknown=&#x27;ignore&#x27;, sparse=False))])</pre><b>Please rerun this cell to show the HTML repr or trust the notebook.</b></div><div class=\"sk-container\" hidden><div class=\"sk-item sk-dashed-wrapped\"><div class=\"sk-label-container\"><div class=\"sk-label sk-toggleable\"><input class=\"sk-toggleable__control sk-hidden--visually\" id=\"5e9f3eb1-0fb3-44a6-8693-646d21c07c21\" type=\"checkbox\" ><label for=\"5e9f3eb1-0fb3-44a6-8693-646d21c07c21\" class=\"sk-toggleable__label sk-toggleable__label-arrow\">Pipeline</label><div class=\"sk-toggleable__content\"><pre>Pipeline(steps=[(&#x27;onehotencoder&#x27;,\n",
       "                 OneHotEncoder(handle_unknown=&#x27;ignore&#x27;, sparse=False))])</pre></div></div></div><div class=\"sk-serial\"><div class=\"sk-item\"><div class=\"sk-estimator sk-toggleable\"><input class=\"sk-toggleable__control sk-hidden--visually\" id=\"726d1c63-3477-4864-8596-63a37c5f0888\" type=\"checkbox\" ><label for=\"726d1c63-3477-4864-8596-63a37c5f0888\" class=\"sk-toggleable__label sk-toggleable__label-arrow\">OneHotEncoder</label><div class=\"sk-toggleable__content\"><pre>OneHotEncoder(handle_unknown=&#x27;ignore&#x27;, sparse=False)</pre></div></div></div></div></div></div></div>"
      ],
      "text/plain": [
       "Pipeline(steps=[('onehotencoder',\n",
       "                 OneHotEncoder(handle_unknown='ignore', sparse=False))])"
      ]
     },
     "execution_count": 652,
     "metadata": {},
     "output_type": "execute_result"
    }
   ],
   "source": [
    "# Categorical pipeline\n",
    "categorical_pipe = make_pipeline(ohe)\n",
    "categorical_pipe"
   ]
  },
  {
   "cell_type": "code",
   "execution_count": 653,
   "id": "dfa02efc",
   "metadata": {},
   "outputs": [
    {
     "data": {
      "text/html": [
       "<style>#sk-3083d32b-cd4c-4816-9711-6cd7c301fd3d {color: black;background-color: white;}#sk-3083d32b-cd4c-4816-9711-6cd7c301fd3d pre{padding: 0;}#sk-3083d32b-cd4c-4816-9711-6cd7c301fd3d div.sk-toggleable {background-color: white;}#sk-3083d32b-cd4c-4816-9711-6cd7c301fd3d label.sk-toggleable__label {cursor: pointer;display: block;width: 100%;margin-bottom: 0;padding: 0.3em;box-sizing: border-box;text-align: center;}#sk-3083d32b-cd4c-4816-9711-6cd7c301fd3d label.sk-toggleable__label-arrow:before {content: \"▸\";float: left;margin-right: 0.25em;color: #696969;}#sk-3083d32b-cd4c-4816-9711-6cd7c301fd3d label.sk-toggleable__label-arrow:hover:before {color: black;}#sk-3083d32b-cd4c-4816-9711-6cd7c301fd3d div.sk-estimator:hover label.sk-toggleable__label-arrow:before {color: black;}#sk-3083d32b-cd4c-4816-9711-6cd7c301fd3d div.sk-toggleable__content {max-height: 0;max-width: 0;overflow: hidden;text-align: left;background-color: #f0f8ff;}#sk-3083d32b-cd4c-4816-9711-6cd7c301fd3d div.sk-toggleable__content pre {margin: 0.2em;color: black;border-radius: 0.25em;background-color: #f0f8ff;}#sk-3083d32b-cd4c-4816-9711-6cd7c301fd3d input.sk-toggleable__control:checked~div.sk-toggleable__content {max-height: 200px;max-width: 100%;overflow: auto;}#sk-3083d32b-cd4c-4816-9711-6cd7c301fd3d input.sk-toggleable__control:checked~label.sk-toggleable__label-arrow:before {content: \"▾\";}#sk-3083d32b-cd4c-4816-9711-6cd7c301fd3d div.sk-estimator input.sk-toggleable__control:checked~label.sk-toggleable__label {background-color: #d4ebff;}#sk-3083d32b-cd4c-4816-9711-6cd7c301fd3d div.sk-label input.sk-toggleable__control:checked~label.sk-toggleable__label {background-color: #d4ebff;}#sk-3083d32b-cd4c-4816-9711-6cd7c301fd3d input.sk-hidden--visually {border: 0;clip: rect(1px 1px 1px 1px);clip: rect(1px, 1px, 1px, 1px);height: 1px;margin: -1px;overflow: hidden;padding: 0;position: absolute;width: 1px;}#sk-3083d32b-cd4c-4816-9711-6cd7c301fd3d div.sk-estimator {font-family: monospace;background-color: #f0f8ff;border: 1px dotted black;border-radius: 0.25em;box-sizing: border-box;margin-bottom: 0.5em;}#sk-3083d32b-cd4c-4816-9711-6cd7c301fd3d div.sk-estimator:hover {background-color: #d4ebff;}#sk-3083d32b-cd4c-4816-9711-6cd7c301fd3d div.sk-parallel-item::after {content: \"\";width: 100%;border-bottom: 1px solid gray;flex-grow: 1;}#sk-3083d32b-cd4c-4816-9711-6cd7c301fd3d div.sk-label:hover label.sk-toggleable__label {background-color: #d4ebff;}#sk-3083d32b-cd4c-4816-9711-6cd7c301fd3d div.sk-serial::before {content: \"\";position: absolute;border-left: 1px solid gray;box-sizing: border-box;top: 2em;bottom: 0;left: 50%;}#sk-3083d32b-cd4c-4816-9711-6cd7c301fd3d div.sk-serial {display: flex;flex-direction: column;align-items: center;background-color: white;padding-right: 0.2em;padding-left: 0.2em;}#sk-3083d32b-cd4c-4816-9711-6cd7c301fd3d div.sk-item {z-index: 1;}#sk-3083d32b-cd4c-4816-9711-6cd7c301fd3d div.sk-parallel {display: flex;align-items: stretch;justify-content: center;background-color: white;}#sk-3083d32b-cd4c-4816-9711-6cd7c301fd3d div.sk-parallel::before {content: \"\";position: absolute;border-left: 1px solid gray;box-sizing: border-box;top: 2em;bottom: 0;left: 50%;}#sk-3083d32b-cd4c-4816-9711-6cd7c301fd3d div.sk-parallel-item {display: flex;flex-direction: column;position: relative;background-color: white;}#sk-3083d32b-cd4c-4816-9711-6cd7c301fd3d div.sk-parallel-item:first-child::after {align-self: flex-end;width: 50%;}#sk-3083d32b-cd4c-4816-9711-6cd7c301fd3d div.sk-parallel-item:last-child::after {align-self: flex-start;width: 50%;}#sk-3083d32b-cd4c-4816-9711-6cd7c301fd3d div.sk-parallel-item:only-child::after {width: 0;}#sk-3083d32b-cd4c-4816-9711-6cd7c301fd3d div.sk-dashed-wrapped {border: 1px dashed gray;margin: 0 0.4em 0.5em 0.4em;box-sizing: border-box;padding-bottom: 0.4em;background-color: white;position: relative;}#sk-3083d32b-cd4c-4816-9711-6cd7c301fd3d div.sk-label label {font-family: monospace;font-weight: bold;background-color: white;display: inline-block;line-height: 1.2em;}#sk-3083d32b-cd4c-4816-9711-6cd7c301fd3d div.sk-label-container {position: relative;z-index: 2;text-align: center;}#sk-3083d32b-cd4c-4816-9711-6cd7c301fd3d div.sk-container {/* jupyter's `normalize.less` sets `[hidden] { display: none; }` but bootstrap.min.css set `[hidden] { display: none !important; }` so we also need the `!important` here to be able to override the default hidden behavior on the sphinx rendered scikit-learn.org. See: https://github.com/scikit-learn/scikit-learn/issues/21755 */display: inline-block !important;position: relative;}#sk-3083d32b-cd4c-4816-9711-6cd7c301fd3d div.sk-text-repr-fallback {display: none;}</style><div id=\"sk-3083d32b-cd4c-4816-9711-6cd7c301fd3d\" class=\"sk-top-container\"><div class=\"sk-text-repr-fallback\"><pre>ColumnTransformer(transformers=[(&#x27;pipeline-1&#x27;,\n",
       "                                 Pipeline(steps=[(&#x27;standardscaler&#x27;,\n",
       "                                                  StandardScaler())]),\n",
       "                                 &lt;sklearn.compose._column_transformer.make_column_selector object at 0x7fb8633abc10&gt;),\n",
       "                                (&#x27;pipeline-2&#x27;,\n",
       "                                 Pipeline(steps=[(&#x27;onehotencoder&#x27;,\n",
       "                                                  OneHotEncoder(handle_unknown=&#x27;ignore&#x27;,\n",
       "                                                                sparse=False))]),\n",
       "                                 &lt;sklearn.compose._column_transformer.make_column_selector object at 0x7fb8637c57f0&gt;)])</pre><b>Please rerun this cell to show the HTML repr or trust the notebook.</b></div><div class=\"sk-container\" hidden><div class=\"sk-item sk-dashed-wrapped\"><div class=\"sk-label-container\"><div class=\"sk-label sk-toggleable\"><input class=\"sk-toggleable__control sk-hidden--visually\" id=\"8663130b-9dca-4567-a1e8-07fce88625e0\" type=\"checkbox\" ><label for=\"8663130b-9dca-4567-a1e8-07fce88625e0\" class=\"sk-toggleable__label sk-toggleable__label-arrow\">ColumnTransformer</label><div class=\"sk-toggleable__content\"><pre>ColumnTransformer(transformers=[(&#x27;pipeline-1&#x27;,\n",
       "                                 Pipeline(steps=[(&#x27;standardscaler&#x27;,\n",
       "                                                  StandardScaler())]),\n",
       "                                 &lt;sklearn.compose._column_transformer.make_column_selector object at 0x7fb8633abc10&gt;),\n",
       "                                (&#x27;pipeline-2&#x27;,\n",
       "                                 Pipeline(steps=[(&#x27;onehotencoder&#x27;,\n",
       "                                                  OneHotEncoder(handle_unknown=&#x27;ignore&#x27;,\n",
       "                                                                sparse=False))]),\n",
       "                                 &lt;sklearn.compose._column_transformer.make_column_selector object at 0x7fb8637c57f0&gt;)])</pre></div></div></div><div class=\"sk-parallel\"><div class=\"sk-parallel-item\"><div class=\"sk-item\"><div class=\"sk-label-container\"><div class=\"sk-label sk-toggleable\"><input class=\"sk-toggleable__control sk-hidden--visually\" id=\"6d936d43-fbe7-4b8b-a3f8-09b426062974\" type=\"checkbox\" ><label for=\"6d936d43-fbe7-4b8b-a3f8-09b426062974\" class=\"sk-toggleable__label sk-toggleable__label-arrow\">pipeline-1</label><div class=\"sk-toggleable__content\"><pre>&lt;sklearn.compose._column_transformer.make_column_selector object at 0x7fb8633abc10&gt;</pre></div></div></div><div class=\"sk-serial\"><div class=\"sk-item\"><div class=\"sk-serial\"><div class=\"sk-item\"><div class=\"sk-estimator sk-toggleable\"><input class=\"sk-toggleable__control sk-hidden--visually\" id=\"083e7ebe-b21b-4ce2-ba18-432ce4661aae\" type=\"checkbox\" ><label for=\"083e7ebe-b21b-4ce2-ba18-432ce4661aae\" class=\"sk-toggleable__label sk-toggleable__label-arrow\">StandardScaler</label><div class=\"sk-toggleable__content\"><pre>StandardScaler()</pre></div></div></div></div></div></div></div></div><div class=\"sk-parallel-item\"><div class=\"sk-item\"><div class=\"sk-label-container\"><div class=\"sk-label sk-toggleable\"><input class=\"sk-toggleable__control sk-hidden--visually\" id=\"cccdd46d-2511-40fb-ac4a-d56a94275c80\" type=\"checkbox\" ><label for=\"cccdd46d-2511-40fb-ac4a-d56a94275c80\" class=\"sk-toggleable__label sk-toggleable__label-arrow\">pipeline-2</label><div class=\"sk-toggleable__content\"><pre>&lt;sklearn.compose._column_transformer.make_column_selector object at 0x7fb8637c57f0&gt;</pre></div></div></div><div class=\"sk-serial\"><div class=\"sk-item\"><div class=\"sk-serial\"><div class=\"sk-item\"><div class=\"sk-estimator sk-toggleable\"><input class=\"sk-toggleable__control sk-hidden--visually\" id=\"dcf88cdc-cf50-4e12-8732-0c21c9fd9555\" type=\"checkbox\" ><label for=\"dcf88cdc-cf50-4e12-8732-0c21c9fd9555\" class=\"sk-toggleable__label sk-toggleable__label-arrow\">OneHotEncoder</label><div class=\"sk-toggleable__content\"><pre>OneHotEncoder(handle_unknown=&#x27;ignore&#x27;, sparse=False)</pre></div></div></div></div></div></div></div></div></div></div></div></div>"
      ],
      "text/plain": [
       "ColumnTransformer(transformers=[('pipeline-1',\n",
       "                                 Pipeline(steps=[('standardscaler',\n",
       "                                                  StandardScaler())]),\n",
       "                                 <sklearn.compose._column_transformer.make_column_selector object at 0x7fb8633abc10>),\n",
       "                                ('pipeline-2',\n",
       "                                 Pipeline(steps=[('onehotencoder',\n",
       "                                                  OneHotEncoder(handle_unknown='ignore',\n",
       "                                                                sparse=False))]),\n",
       "                                 <sklearn.compose._column_transformer.make_column_selector object at 0x7fb8637c57f0>)])"
      ]
     },
     "execution_count": 653,
     "metadata": {},
     "output_type": "execute_result"
    }
   ],
   "source": [
    "# Tuples para Column Transformer\n",
    "number_tuple = (numeric_pipe, num_selector)\n",
    "category_tuple = (categorical_pipe, cat_selector)\n",
    "# ColumnTransformer\n",
    "preprocessor = make_column_transformer(number_tuple, category_tuple)\n",
    "preprocessor"
   ]
  },
  {
   "cell_type": "code",
   "execution_count": 654,
   "id": "e369108c",
   "metadata": {},
   "outputs": [
    {
     "data": {
      "text/html": [
       "<style>#sk-62676cfb-779e-4229-89fa-de2a2176e491 {color: black;background-color: white;}#sk-62676cfb-779e-4229-89fa-de2a2176e491 pre{padding: 0;}#sk-62676cfb-779e-4229-89fa-de2a2176e491 div.sk-toggleable {background-color: white;}#sk-62676cfb-779e-4229-89fa-de2a2176e491 label.sk-toggleable__label {cursor: pointer;display: block;width: 100%;margin-bottom: 0;padding: 0.3em;box-sizing: border-box;text-align: center;}#sk-62676cfb-779e-4229-89fa-de2a2176e491 label.sk-toggleable__label-arrow:before {content: \"▸\";float: left;margin-right: 0.25em;color: #696969;}#sk-62676cfb-779e-4229-89fa-de2a2176e491 label.sk-toggleable__label-arrow:hover:before {color: black;}#sk-62676cfb-779e-4229-89fa-de2a2176e491 div.sk-estimator:hover label.sk-toggleable__label-arrow:before {color: black;}#sk-62676cfb-779e-4229-89fa-de2a2176e491 div.sk-toggleable__content {max-height: 0;max-width: 0;overflow: hidden;text-align: left;background-color: #f0f8ff;}#sk-62676cfb-779e-4229-89fa-de2a2176e491 div.sk-toggleable__content pre {margin: 0.2em;color: black;border-radius: 0.25em;background-color: #f0f8ff;}#sk-62676cfb-779e-4229-89fa-de2a2176e491 input.sk-toggleable__control:checked~div.sk-toggleable__content {max-height: 200px;max-width: 100%;overflow: auto;}#sk-62676cfb-779e-4229-89fa-de2a2176e491 input.sk-toggleable__control:checked~label.sk-toggleable__label-arrow:before {content: \"▾\";}#sk-62676cfb-779e-4229-89fa-de2a2176e491 div.sk-estimator input.sk-toggleable__control:checked~label.sk-toggleable__label {background-color: #d4ebff;}#sk-62676cfb-779e-4229-89fa-de2a2176e491 div.sk-label input.sk-toggleable__control:checked~label.sk-toggleable__label {background-color: #d4ebff;}#sk-62676cfb-779e-4229-89fa-de2a2176e491 input.sk-hidden--visually {border: 0;clip: rect(1px 1px 1px 1px);clip: rect(1px, 1px, 1px, 1px);height: 1px;margin: -1px;overflow: hidden;padding: 0;position: absolute;width: 1px;}#sk-62676cfb-779e-4229-89fa-de2a2176e491 div.sk-estimator {font-family: monospace;background-color: #f0f8ff;border: 1px dotted black;border-radius: 0.25em;box-sizing: border-box;margin-bottom: 0.5em;}#sk-62676cfb-779e-4229-89fa-de2a2176e491 div.sk-estimator:hover {background-color: #d4ebff;}#sk-62676cfb-779e-4229-89fa-de2a2176e491 div.sk-parallel-item::after {content: \"\";width: 100%;border-bottom: 1px solid gray;flex-grow: 1;}#sk-62676cfb-779e-4229-89fa-de2a2176e491 div.sk-label:hover label.sk-toggleable__label {background-color: #d4ebff;}#sk-62676cfb-779e-4229-89fa-de2a2176e491 div.sk-serial::before {content: \"\";position: absolute;border-left: 1px solid gray;box-sizing: border-box;top: 2em;bottom: 0;left: 50%;}#sk-62676cfb-779e-4229-89fa-de2a2176e491 div.sk-serial {display: flex;flex-direction: column;align-items: center;background-color: white;padding-right: 0.2em;padding-left: 0.2em;}#sk-62676cfb-779e-4229-89fa-de2a2176e491 div.sk-item {z-index: 1;}#sk-62676cfb-779e-4229-89fa-de2a2176e491 div.sk-parallel {display: flex;align-items: stretch;justify-content: center;background-color: white;}#sk-62676cfb-779e-4229-89fa-de2a2176e491 div.sk-parallel::before {content: \"\";position: absolute;border-left: 1px solid gray;box-sizing: border-box;top: 2em;bottom: 0;left: 50%;}#sk-62676cfb-779e-4229-89fa-de2a2176e491 div.sk-parallel-item {display: flex;flex-direction: column;position: relative;background-color: white;}#sk-62676cfb-779e-4229-89fa-de2a2176e491 div.sk-parallel-item:first-child::after {align-self: flex-end;width: 50%;}#sk-62676cfb-779e-4229-89fa-de2a2176e491 div.sk-parallel-item:last-child::after {align-self: flex-start;width: 50%;}#sk-62676cfb-779e-4229-89fa-de2a2176e491 div.sk-parallel-item:only-child::after {width: 0;}#sk-62676cfb-779e-4229-89fa-de2a2176e491 div.sk-dashed-wrapped {border: 1px dashed gray;margin: 0 0.4em 0.5em 0.4em;box-sizing: border-box;padding-bottom: 0.4em;background-color: white;position: relative;}#sk-62676cfb-779e-4229-89fa-de2a2176e491 div.sk-label label {font-family: monospace;font-weight: bold;background-color: white;display: inline-block;line-height: 1.2em;}#sk-62676cfb-779e-4229-89fa-de2a2176e491 div.sk-label-container {position: relative;z-index: 2;text-align: center;}#sk-62676cfb-779e-4229-89fa-de2a2176e491 div.sk-container {/* jupyter's `normalize.less` sets `[hidden] { display: none; }` but bootstrap.min.css set `[hidden] { display: none !important; }` so we also need the `!important` here to be able to override the default hidden behavior on the sphinx rendered scikit-learn.org. See: https://github.com/scikit-learn/scikit-learn/issues/21755 */display: inline-block !important;position: relative;}#sk-62676cfb-779e-4229-89fa-de2a2176e491 div.sk-text-repr-fallback {display: none;}</style><div id=\"sk-62676cfb-779e-4229-89fa-de2a2176e491\" class=\"sk-top-container\"><div class=\"sk-text-repr-fallback\"><pre>ColumnTransformer(transformers=[(&#x27;pipeline-1&#x27;,\n",
       "                                 Pipeline(steps=[(&#x27;standardscaler&#x27;,\n",
       "                                                  StandardScaler())]),\n",
       "                                 &lt;sklearn.compose._column_transformer.make_column_selector object at 0x7fb8633abc10&gt;),\n",
       "                                (&#x27;pipeline-2&#x27;,\n",
       "                                 Pipeline(steps=[(&#x27;onehotencoder&#x27;,\n",
       "                                                  OneHotEncoder(handle_unknown=&#x27;ignore&#x27;,\n",
       "                                                                sparse=False))]),\n",
       "                                 &lt;sklearn.compose._column_transformer.make_column_selector object at 0x7fb8637c57f0&gt;)])</pre><b>Please rerun this cell to show the HTML repr or trust the notebook.</b></div><div class=\"sk-container\" hidden><div class=\"sk-item sk-dashed-wrapped\"><div class=\"sk-label-container\"><div class=\"sk-label sk-toggleable\"><input class=\"sk-toggleable__control sk-hidden--visually\" id=\"94a7688c-aaf3-4956-96cb-3ad8f99f59e1\" type=\"checkbox\" ><label for=\"94a7688c-aaf3-4956-96cb-3ad8f99f59e1\" class=\"sk-toggleable__label sk-toggleable__label-arrow\">ColumnTransformer</label><div class=\"sk-toggleable__content\"><pre>ColumnTransformer(transformers=[(&#x27;pipeline-1&#x27;,\n",
       "                                 Pipeline(steps=[(&#x27;standardscaler&#x27;,\n",
       "                                                  StandardScaler())]),\n",
       "                                 &lt;sklearn.compose._column_transformer.make_column_selector object at 0x7fb8633abc10&gt;),\n",
       "                                (&#x27;pipeline-2&#x27;,\n",
       "                                 Pipeline(steps=[(&#x27;onehotencoder&#x27;,\n",
       "                                                  OneHotEncoder(handle_unknown=&#x27;ignore&#x27;,\n",
       "                                                                sparse=False))]),\n",
       "                                 &lt;sklearn.compose._column_transformer.make_column_selector object at 0x7fb8637c57f0&gt;)])</pre></div></div></div><div class=\"sk-parallel\"><div class=\"sk-parallel-item\"><div class=\"sk-item\"><div class=\"sk-label-container\"><div class=\"sk-label sk-toggleable\"><input class=\"sk-toggleable__control sk-hidden--visually\" id=\"237915c5-7ee1-46f7-be33-6d4c925e6e21\" type=\"checkbox\" ><label for=\"237915c5-7ee1-46f7-be33-6d4c925e6e21\" class=\"sk-toggleable__label sk-toggleable__label-arrow\">pipeline-1</label><div class=\"sk-toggleable__content\"><pre>&lt;sklearn.compose._column_transformer.make_column_selector object at 0x7fb8633abc10&gt;</pre></div></div></div><div class=\"sk-serial\"><div class=\"sk-item\"><div class=\"sk-serial\"><div class=\"sk-item\"><div class=\"sk-estimator sk-toggleable\"><input class=\"sk-toggleable__control sk-hidden--visually\" id=\"64e8c4b1-d180-4ec4-ba1e-1bd3fe5864bc\" type=\"checkbox\" ><label for=\"64e8c4b1-d180-4ec4-ba1e-1bd3fe5864bc\" class=\"sk-toggleable__label sk-toggleable__label-arrow\">StandardScaler</label><div class=\"sk-toggleable__content\"><pre>StandardScaler()</pre></div></div></div></div></div></div></div></div><div class=\"sk-parallel-item\"><div class=\"sk-item\"><div class=\"sk-label-container\"><div class=\"sk-label sk-toggleable\"><input class=\"sk-toggleable__control sk-hidden--visually\" id=\"ccf92089-255a-4f62-9c33-4434fad9386a\" type=\"checkbox\" ><label for=\"ccf92089-255a-4f62-9c33-4434fad9386a\" class=\"sk-toggleable__label sk-toggleable__label-arrow\">pipeline-2</label><div class=\"sk-toggleable__content\"><pre>&lt;sklearn.compose._column_transformer.make_column_selector object at 0x7fb8637c57f0&gt;</pre></div></div></div><div class=\"sk-serial\"><div class=\"sk-item\"><div class=\"sk-serial\"><div class=\"sk-item\"><div class=\"sk-estimator sk-toggleable\"><input class=\"sk-toggleable__control sk-hidden--visually\" id=\"3556f8db-1314-4ac7-ba5c-fa7af6f0d9e9\" type=\"checkbox\" ><label for=\"3556f8db-1314-4ac7-ba5c-fa7af6f0d9e9\" class=\"sk-toggleable__label sk-toggleable__label-arrow\">OneHotEncoder</label><div class=\"sk-toggleable__content\"><pre>OneHotEncoder(handle_unknown=&#x27;ignore&#x27;, sparse=False)</pre></div></div></div></div></div></div></div></div></div></div></div></div>"
      ],
      "text/plain": [
       "ColumnTransformer(transformers=[('pipeline-1',\n",
       "                                 Pipeline(steps=[('standardscaler',\n",
       "                                                  StandardScaler())]),\n",
       "                                 <sklearn.compose._column_transformer.make_column_selector object at 0x7fb8633abc10>),\n",
       "                                ('pipeline-2',\n",
       "                                 Pipeline(steps=[('onehotencoder',\n",
       "                                                  OneHotEncoder(handle_unknown='ignore',\n",
       "                                                                sparse=False))]),\n",
       "                                 <sklearn.compose._column_transformer.make_column_selector object at 0x7fb8637c57f0>)])"
      ]
     },
     "execution_count": 654,
     "metadata": {},
     "output_type": "execute_result"
    }
   ],
   "source": [
    "# fit on train\n",
    "preprocessor.fit(X_train)"
   ]
  },
  {
   "cell_type": "code",
   "execution_count": 655,
   "id": "c1b41272",
   "metadata": {},
   "outputs": [],
   "source": [
    "# transform train and test\n",
    "X_train = preprocessor.transform(X_train)\n",
    "X_test = preprocessor.transform(X_test)"
   ]
  },
  {
   "cell_type": "code",
   "execution_count": 656,
   "id": "4bdee055",
   "metadata": {},
   "outputs": [
    {
     "name": "stdout",
     "output_type": "stream",
     "text": [
      "0 missing values in training data\n",
      "0 missing values in testing data\n",
      "\n",
      "\n",
      "All data in X_train_processed are float64\n",
      "All data in X_test_processed are float64\n",
      "\n",
      "\n",
      "shape of data is (138, 57)\n",
      "\n",
      "\n"
     ]
    },
    {
     "data": {
      "text/plain": [
       "array([[-2.29117002, -0.57177187, -0.43549417, ...,  0.        ,\n",
       "         1.        ,  0.        ],\n",
       "       [-2.29117002, -0.57177187, -0.43549417, ...,  0.        ,\n",
       "         1.        ,  0.        ],\n",
       "       [ 0.40153132, -0.57177187, -0.43549417, ...,  0.        ,\n",
       "         0.        ,  0.        ],\n",
       "       ...,\n",
       "       [ 0.40153132,  1.74894926, -0.43549417, ...,  0.        ,\n",
       "         0.        ,  0.        ],\n",
       "       [ 0.40153132, -0.57177187, -0.43549417, ...,  0.        ,\n",
       "         0.        ,  0.        ],\n",
       "       [ 0.40153132, -0.57177187, -0.43549417, ...,  1.        ,\n",
       "         0.        ,  0.        ]])"
      ]
     },
     "execution_count": 656,
     "metadata": {},
     "output_type": "execute_result"
    }
   ],
   "source": [
    "# Comprueben los valores faltantes y que los datos se escalen y tengan una codificación one-hot\n",
    "\n",
    "print(np.isnan(X_train).sum().sum(), 'missing values in training data')\n",
    "print(np.isnan(X_test).sum().sum(), 'missing values in testing data')\n",
    "print('\\n')\n",
    "print('All data in X_train_processed are', X_train.dtype)\n",
    "print('All data in X_test_processed are', X_test.dtype)\n",
    "print('\\n')\n",
    "print('shape of data is', X_train.shape)\n",
    "print('\\n')\n",
    "X_train"
   ]
  },
  {
   "cell_type": "code",
   "execution_count": 657,
   "id": "4a38286b",
   "metadata": {
    "scrolled": true
   },
   "outputs": [
    {
     "data": {
      "text/html": [
       "<style>#sk-a8920acb-f3d7-412c-81ef-84cb84914169 {color: black;background-color: white;}#sk-a8920acb-f3d7-412c-81ef-84cb84914169 pre{padding: 0;}#sk-a8920acb-f3d7-412c-81ef-84cb84914169 div.sk-toggleable {background-color: white;}#sk-a8920acb-f3d7-412c-81ef-84cb84914169 label.sk-toggleable__label {cursor: pointer;display: block;width: 100%;margin-bottom: 0;padding: 0.3em;box-sizing: border-box;text-align: center;}#sk-a8920acb-f3d7-412c-81ef-84cb84914169 label.sk-toggleable__label-arrow:before {content: \"▸\";float: left;margin-right: 0.25em;color: #696969;}#sk-a8920acb-f3d7-412c-81ef-84cb84914169 label.sk-toggleable__label-arrow:hover:before {color: black;}#sk-a8920acb-f3d7-412c-81ef-84cb84914169 div.sk-estimator:hover label.sk-toggleable__label-arrow:before {color: black;}#sk-a8920acb-f3d7-412c-81ef-84cb84914169 div.sk-toggleable__content {max-height: 0;max-width: 0;overflow: hidden;text-align: left;background-color: #f0f8ff;}#sk-a8920acb-f3d7-412c-81ef-84cb84914169 div.sk-toggleable__content pre {margin: 0.2em;color: black;border-radius: 0.25em;background-color: #f0f8ff;}#sk-a8920acb-f3d7-412c-81ef-84cb84914169 input.sk-toggleable__control:checked~div.sk-toggleable__content {max-height: 200px;max-width: 100%;overflow: auto;}#sk-a8920acb-f3d7-412c-81ef-84cb84914169 input.sk-toggleable__control:checked~label.sk-toggleable__label-arrow:before {content: \"▾\";}#sk-a8920acb-f3d7-412c-81ef-84cb84914169 div.sk-estimator input.sk-toggleable__control:checked~label.sk-toggleable__label {background-color: #d4ebff;}#sk-a8920acb-f3d7-412c-81ef-84cb84914169 div.sk-label input.sk-toggleable__control:checked~label.sk-toggleable__label {background-color: #d4ebff;}#sk-a8920acb-f3d7-412c-81ef-84cb84914169 input.sk-hidden--visually {border: 0;clip: rect(1px 1px 1px 1px);clip: rect(1px, 1px, 1px, 1px);height: 1px;margin: -1px;overflow: hidden;padding: 0;position: absolute;width: 1px;}#sk-a8920acb-f3d7-412c-81ef-84cb84914169 div.sk-estimator {font-family: monospace;background-color: #f0f8ff;border: 1px dotted black;border-radius: 0.25em;box-sizing: border-box;margin-bottom: 0.5em;}#sk-a8920acb-f3d7-412c-81ef-84cb84914169 div.sk-estimator:hover {background-color: #d4ebff;}#sk-a8920acb-f3d7-412c-81ef-84cb84914169 div.sk-parallel-item::after {content: \"\";width: 100%;border-bottom: 1px solid gray;flex-grow: 1;}#sk-a8920acb-f3d7-412c-81ef-84cb84914169 div.sk-label:hover label.sk-toggleable__label {background-color: #d4ebff;}#sk-a8920acb-f3d7-412c-81ef-84cb84914169 div.sk-serial::before {content: \"\";position: absolute;border-left: 1px solid gray;box-sizing: border-box;top: 2em;bottom: 0;left: 50%;}#sk-a8920acb-f3d7-412c-81ef-84cb84914169 div.sk-serial {display: flex;flex-direction: column;align-items: center;background-color: white;padding-right: 0.2em;padding-left: 0.2em;}#sk-a8920acb-f3d7-412c-81ef-84cb84914169 div.sk-item {z-index: 1;}#sk-a8920acb-f3d7-412c-81ef-84cb84914169 div.sk-parallel {display: flex;align-items: stretch;justify-content: center;background-color: white;}#sk-a8920acb-f3d7-412c-81ef-84cb84914169 div.sk-parallel::before {content: \"\";position: absolute;border-left: 1px solid gray;box-sizing: border-box;top: 2em;bottom: 0;left: 50%;}#sk-a8920acb-f3d7-412c-81ef-84cb84914169 div.sk-parallel-item {display: flex;flex-direction: column;position: relative;background-color: white;}#sk-a8920acb-f3d7-412c-81ef-84cb84914169 div.sk-parallel-item:first-child::after {align-self: flex-end;width: 50%;}#sk-a8920acb-f3d7-412c-81ef-84cb84914169 div.sk-parallel-item:last-child::after {align-self: flex-start;width: 50%;}#sk-a8920acb-f3d7-412c-81ef-84cb84914169 div.sk-parallel-item:only-child::after {width: 0;}#sk-a8920acb-f3d7-412c-81ef-84cb84914169 div.sk-dashed-wrapped {border: 1px dashed gray;margin: 0 0.4em 0.5em 0.4em;box-sizing: border-box;padding-bottom: 0.4em;background-color: white;position: relative;}#sk-a8920acb-f3d7-412c-81ef-84cb84914169 div.sk-label label {font-family: monospace;font-weight: bold;background-color: white;display: inline-block;line-height: 1.2em;}#sk-a8920acb-f3d7-412c-81ef-84cb84914169 div.sk-label-container {position: relative;z-index: 2;text-align: center;}#sk-a8920acb-f3d7-412c-81ef-84cb84914169 div.sk-container {/* jupyter's `normalize.less` sets `[hidden] { display: none; }` but bootstrap.min.css set `[hidden] { display: none !important; }` so we also need the `!important` here to be able to override the default hidden behavior on the sphinx rendered scikit-learn.org. See: https://github.com/scikit-learn/scikit-learn/issues/21755 */display: inline-block !important;position: relative;}#sk-a8920acb-f3d7-412c-81ef-84cb84914169 div.sk-text-repr-fallback {display: none;}</style><div id=\"sk-a8920acb-f3d7-412c-81ef-84cb84914169\" class=\"sk-top-container\"><div class=\"sk-text-repr-fallback\"><pre>XGBClassifier(base_score=None, booster=None, callbacks=None,\n",
       "              colsample_bylevel=None, colsample_bynode=None,\n",
       "              colsample_bytree=None, early_stopping_rounds=None,\n",
       "              enable_categorical=False, eval_metric=None, feature_types=None,\n",
       "              gamma=None, gpu_id=None, grow_policy=None, importance_type=None,\n",
       "              interaction_constraints=None, learning_rate=None, max_bin=None,\n",
       "              max_cat_threshold=None, max_cat_to_onehot=None,\n",
       "              max_delta_step=None, max_depth=None, max_leaves=None,\n",
       "              min_child_weight=None, missing=nan, monotone_constraints=None,\n",
       "              n_estimators=100, n_jobs=None, num_parallel_tree=None,\n",
       "              predictor=None, random_state=None, ...)</pre><b>Please rerun this cell to show the HTML repr or trust the notebook.</b></div><div class=\"sk-container\" hidden><div class=\"sk-item\"><div class=\"sk-estimator sk-toggleable\"><input class=\"sk-toggleable__control sk-hidden--visually\" id=\"de2ec230-2788-4569-8627-7130bb357c4f\" type=\"checkbox\" checked><label for=\"de2ec230-2788-4569-8627-7130bb357c4f\" class=\"sk-toggleable__label sk-toggleable__label-arrow\">XGBClassifier</label><div class=\"sk-toggleable__content\"><pre>XGBClassifier(base_score=None, booster=None, callbacks=None,\n",
       "              colsample_bylevel=None, colsample_bynode=None,\n",
       "              colsample_bytree=None, early_stopping_rounds=None,\n",
       "              enable_categorical=False, eval_metric=None, feature_types=None,\n",
       "              gamma=None, gpu_id=None, grow_policy=None, importance_type=None,\n",
       "              interaction_constraints=None, learning_rate=None, max_bin=None,\n",
       "              max_cat_threshold=None, max_cat_to_onehot=None,\n",
       "              max_delta_step=None, max_depth=None, max_leaves=None,\n",
       "              min_child_weight=None, missing=nan, monotone_constraints=None,\n",
       "              n_estimators=100, n_jobs=None, num_parallel_tree=None,\n",
       "              predictor=None, random_state=None, ...)</pre></div></div></div></div></div>"
      ],
      "text/plain": [
       "XGBClassifier(base_score=None, booster=None, callbacks=None,\n",
       "              colsample_bylevel=None, colsample_bynode=None,\n",
       "              colsample_bytree=None, early_stopping_rounds=None,\n",
       "              enable_categorical=False, eval_metric=None, feature_types=None,\n",
       "              gamma=None, gpu_id=None, grow_policy=None, importance_type=None,\n",
       "              interaction_constraints=None, learning_rate=None, max_bin=None,\n",
       "              max_cat_threshold=None, max_cat_to_onehot=None,\n",
       "              max_delta_step=None, max_depth=None, max_leaves=None,\n",
       "              min_child_weight=None, missing=nan, monotone_constraints=None,\n",
       "              n_estimators=100, n_jobs=None, num_parallel_tree=None,\n",
       "              predictor=None, random_state=None, ...)"
      ]
     },
     "execution_count": 657,
     "metadata": {},
     "output_type": "execute_result"
    }
   ],
   "source": [
    "xgb = XGBClassifier( )\n",
    "xgb.fit(X_train, y_train)"
   ]
  },
  {
   "cell_type": "code",
   "execution_count": 658,
   "id": "9767e40d",
   "metadata": {},
   "outputs": [
    {
     "name": "stdout",
     "output_type": "stream",
     "text": [
      "Training accuracy: 1.0\n",
      "Testing accuracy: 1.0\n"
     ]
    }
   ],
   "source": [
    "print('Training accuracy:', xgb.score(X_train, y_train))\n",
    "print('Testing accuracy:', xgb.score(X_test, y_test))"
   ]
  },
  {
   "cell_type": "code",
   "execution_count": 659,
   "id": "676af94a",
   "metadata": {},
   "outputs": [],
   "source": [
    "xgb = xgb.predict(X_test)"
   ]
  },
  {
   "cell_type": "code",
   "execution_count": 660,
   "id": "bf2eba57",
   "metadata": {},
   "outputs": [
    {
     "name": "stdout",
     "output_type": "stream",
     "text": [
      "              precision    recall  f1-score   support\n",
      "\n",
      "           0       1.00      1.00      1.00        33\n",
      "           1       1.00      1.00      1.00         2\n",
      "\n",
      "    accuracy                           1.00        35\n",
      "   macro avg       1.00      1.00      1.00        35\n",
      "weighted avg       1.00      1.00      1.00        35\n",
      "\n"
     ]
    }
   ],
   "source": [
    "print(classification_report(y_test,xgb))"
   ]
  },
  {
   "cell_type": "code",
   "execution_count": 661,
   "id": "11d34963",
   "metadata": {
    "scrolled": true
   },
   "outputs": [
    {
     "data": {
      "text/plain": [
       "<Figure size 432x288 with 0 Axes>"
      ]
     },
     "metadata": {},
     "output_type": "display_data"
    },
    {
     "data": {
      "image/png": "[encoded data removed]",
      "text/plain": [
       "<Figure size 432x288 with 2 Axes>"
      ]
     },
     "metadata": {
      "needs_background": "light"
     },
     "output_type": "display_data"
    }
   ],
   "source": [
    "cm = confusion_matrix(y_test,xgb)\n",
    "disp = ConfusionMatrixDisplay(confusion_matrix=cm)\n",
    "plt.figure()\n",
    "disp.plot()\n",
    "plt.show()"
   ]
  },
  {
   "cell_type": "code",
   "execution_count": 677,
   "id": "94b6062a",
   "metadata": {},
   "outputs": [],
   "source": [
    "sm = SMOTE(sampling_strategy='auto', k_neighbors = 10)\n",
    "#Neighbors se refiere a la cantidad de variables y samples que el toma para evaluar\n"
   ]
  },
  {
   "cell_type": "code",
   "execution_count": null,
   "id": "99f1c0d6",
   "metadata": {},
   "outputs": [],
   "source": [
    "sm_X_train, sm_y_train = sm.fit_resample(X_train,y_train)\n",
    "# resample, hacer otro muestreo"
   ]
  },
  {
   "cell_type": "code",
   "execution_count": 680,
   "id": "b6de133f",
   "metadata": {
    "scrolled": true
   },
   "outputs": [
    {
     "data": {
      "text/html": [
       "<style>#sk-f6099133-4eee-4b8f-b1bf-bda30c53811b {color: black;background-color: white;}#sk-f6099133-4eee-4b8f-b1bf-bda30c53811b pre{padding: 0;}#sk-f6099133-4eee-4b8f-b1bf-bda30c53811b div.sk-toggleable {background-color: white;}#sk-f6099133-4eee-4b8f-b1bf-bda30c53811b label.sk-toggleable__label {cursor: pointer;display: block;width: 100%;margin-bottom: 0;padding: 0.3em;box-sizing: border-box;text-align: center;}#sk-f6099133-4eee-4b8f-b1bf-bda30c53811b label.sk-toggleable__label-arrow:before {content: \"▸\";float: left;margin-right: 0.25em;color: #696969;}#sk-f6099133-4eee-4b8f-b1bf-bda30c53811b label.sk-toggleable__label-arrow:hover:before {color: black;}#sk-f6099133-4eee-4b8f-b1bf-bda30c53811b div.sk-estimator:hover label.sk-toggleable__label-arrow:before {color: black;}#sk-f6099133-4eee-4b8f-b1bf-bda30c53811b div.sk-toggleable__content {max-height: 0;max-width: 0;overflow: hidden;text-align: left;background-color: #f0f8ff;}#sk-f6099133-4eee-4b8f-b1bf-bda30c53811b div.sk-toggleable__content pre {margin: 0.2em;color: black;border-radius: 0.25em;background-color: #f0f8ff;}#sk-f6099133-4eee-4b8f-b1bf-bda30c53811b input.sk-toggleable__control:checked~div.sk-toggleable__content {max-height: 200px;max-width: 100%;overflow: auto;}#sk-f6099133-4eee-4b8f-b1bf-bda30c53811b input.sk-toggleable__control:checked~label.sk-toggleable__label-arrow:before {content: \"▾\";}#sk-f6099133-4eee-4b8f-b1bf-bda30c53811b div.sk-estimator input.sk-toggleable__control:checked~label.sk-toggleable__label {background-color: #d4ebff;}#sk-f6099133-4eee-4b8f-b1bf-bda30c53811b div.sk-label input.sk-toggleable__control:checked~label.sk-toggleable__label {background-color: #d4ebff;}#sk-f6099133-4eee-4b8f-b1bf-bda30c53811b input.sk-hidden--visually {border: 0;clip: rect(1px 1px 1px 1px);clip: rect(1px, 1px, 1px, 1px);height: 1px;margin: -1px;overflow: hidden;padding: 0;position: absolute;width: 1px;}#sk-f6099133-4eee-4b8f-b1bf-bda30c53811b div.sk-estimator {font-family: monospace;background-color: #f0f8ff;border: 1px dotted black;border-radius: 0.25em;box-sizing: border-box;margin-bottom: 0.5em;}#sk-f6099133-4eee-4b8f-b1bf-bda30c53811b div.sk-estimator:hover {background-color: #d4ebff;}#sk-f6099133-4eee-4b8f-b1bf-bda30c53811b div.sk-parallel-item::after {content: \"\";width: 100%;border-bottom: 1px solid gray;flex-grow: 1;}#sk-f6099133-4eee-4b8f-b1bf-bda30c53811b div.sk-label:hover label.sk-toggleable__label {background-color: #d4ebff;}#sk-f6099133-4eee-4b8f-b1bf-bda30c53811b div.sk-serial::before {content: \"\";position: absolute;border-left: 1px solid gray;box-sizing: border-box;top: 2em;bottom: 0;left: 50%;}#sk-f6099133-4eee-4b8f-b1bf-bda30c53811b div.sk-serial {display: flex;flex-direction: column;align-items: center;background-color: white;padding-right: 0.2em;padding-left: 0.2em;}#sk-f6099133-4eee-4b8f-b1bf-bda30c53811b div.sk-item {z-index: 1;}#sk-f6099133-4eee-4b8f-b1bf-bda30c53811b div.sk-parallel {display: flex;align-items: stretch;justify-content: center;background-color: white;}#sk-f6099133-4eee-4b8f-b1bf-bda30c53811b div.sk-parallel::before {content: \"\";position: absolute;border-left: 1px solid gray;box-sizing: border-box;top: 2em;bottom: 0;left: 50%;}#sk-f6099133-4eee-4b8f-b1bf-bda30c53811b div.sk-parallel-item {display: flex;flex-direction: column;position: relative;background-color: white;}#sk-f6099133-4eee-4b8f-b1bf-bda30c53811b div.sk-parallel-item:first-child::after {align-self: flex-end;width: 50%;}#sk-f6099133-4eee-4b8f-b1bf-bda30c53811b div.sk-parallel-item:last-child::after {align-self: flex-start;width: 50%;}#sk-f6099133-4eee-4b8f-b1bf-bda30c53811b div.sk-parallel-item:only-child::after {width: 0;}#sk-f6099133-4eee-4b8f-b1bf-bda30c53811b div.sk-dashed-wrapped {border: 1px dashed gray;margin: 0 0.4em 0.5em 0.4em;box-sizing: border-box;padding-bottom: 0.4em;background-color: white;position: relative;}#sk-f6099133-4eee-4b8f-b1bf-bda30c53811b div.sk-label label {font-family: monospace;font-weight: bold;background-color: white;display: inline-block;line-height: 1.2em;}#sk-f6099133-4eee-4b8f-b1bf-bda30c53811b div.sk-label-container {position: relative;z-index: 2;text-align: center;}#sk-f6099133-4eee-4b8f-b1bf-bda30c53811b div.sk-container {/* jupyter's `normalize.less` sets `[hidden] { display: none; }` but bootstrap.min.css set `[hidden] { display: none !important; }` so we also need the `!important` here to be able to override the default hidden behavior on the sphinx rendered scikit-learn.org. See: https://github.com/scikit-learn/scikit-learn/issues/21755 */display: inline-block !important;position: relative;}#sk-f6099133-4eee-4b8f-b1bf-bda30c53811b div.sk-text-repr-fallback {display: none;}</style><div id=\"sk-f6099133-4eee-4b8f-b1bf-bda30c53811b\" class=\"sk-top-container\"><div class=\"sk-text-repr-fallback\"><pre>XGBClassifier(base_score=None, booster=None, callbacks=None,\n",
       "              colsample_bylevel=None, colsample_bynode=None,\n",
       "              colsample_bytree=None, early_stopping_rounds=None,\n",
       "              enable_categorical=False, eval_metric=None, feature_types=None,\n",
       "              gamma=None, gpu_id=None, grow_policy=None, importance_type=None,\n",
       "              interaction_constraints=None, learning_rate=None, max_bin=None,\n",
       "              max_cat_threshold=None, max_cat_to_onehot=None,\n",
       "              max_delta_step=None, max_depth=None, max_leaves=None,\n",
       "              min_child_weight=None, missing=nan, monotone_constraints=None,\n",
       "              n_estimators=100, n_jobs=None, num_parallel_tree=None,\n",
       "              predictor=None, random_state=None, ...)</pre><b>Please rerun this cell to show the HTML repr or trust the notebook.</b></div><div class=\"sk-container\" hidden><div class=\"sk-item\"><div class=\"sk-estimator sk-toggleable\"><input class=\"sk-toggleable__control sk-hidden--visually\" id=\"7c7bee72-b7e2-4952-83b9-7eb3581feeef\" type=\"checkbox\" checked><label for=\"7c7bee72-b7e2-4952-83b9-7eb3581feeef\" class=\"sk-toggleable__label sk-toggleable__label-arrow\">XGBClassifier</label><div class=\"sk-toggleable__content\"><pre>XGBClassifier(base_score=None, booster=None, callbacks=None,\n",
       "              colsample_bylevel=None, colsample_bynode=None,\n",
       "              colsample_bytree=None, early_stopping_rounds=None,\n",
       "              enable_categorical=False, eval_metric=None, feature_types=None,\n",
       "              gamma=None, gpu_id=None, grow_policy=None, importance_type=None,\n",
       "              interaction_constraints=None, learning_rate=None, max_bin=None,\n",
       "              max_cat_threshold=None, max_cat_to_onehot=None,\n",
       "              max_delta_step=None, max_depth=None, max_leaves=None,\n",
       "              min_child_weight=None, missing=nan, monotone_constraints=None,\n",
       "              n_estimators=100, n_jobs=None, num_parallel_tree=None,\n",
       "              predictor=None, random_state=None, ...)</pre></div></div></div></div></div>"
      ],
      "text/plain": [
       "XGBClassifier(base_score=None, booster=None, callbacks=None,\n",
       "              colsample_bylevel=None, colsample_bynode=None,\n",
       "              colsample_bytree=None, early_stopping_rounds=None,\n",
       "              enable_categorical=False, eval_metric=None, feature_types=None,\n",
       "              gamma=None, gpu_id=None, grow_policy=None, importance_type=None,\n",
       "              interaction_constraints=None, learning_rate=None, max_bin=None,\n",
       "              max_cat_threshold=None, max_cat_to_onehot=None,\n",
       "              max_delta_step=None, max_depth=None, max_leaves=None,\n",
       "              min_child_weight=None, missing=nan, monotone_constraints=None,\n",
       "              n_estimators=100, n_jobs=None, num_parallel_tree=None,\n",
       "              predictor=None, random_state=None, ...)"
      ]
     },
     "execution_count": 680,
     "metadata": {},
     "output_type": "execute_result"
    }
   ],
   "source": [
    "xgb_sm.fit(sm_X_train,sm_y_train)"
   ]
  },
  {
   "cell_type": "code",
   "execution_count": 681,
   "id": "4baaec9d",
   "metadata": {},
   "outputs": [],
   "source": [
    "xgb_sm = xgb_sm.predict(X_test)"
   ]
  },
  {
   "cell_type": "code",
   "execution_count": 685,
   "id": "196748da",
   "metadata": {},
   "outputs": [
    {
     "data": {
      "text/plain": [
       "254"
      ]
     },
     "execution_count": 685,
     "metadata": {},
     "output_type": "execute_result"
    }
   ],
   "source": [
    "len(sm_y_train)\n",
    "#aqui te imprime el y_train normal"
   ]
  },
  {
   "cell_type": "code",
   "execution_count": 682,
   "id": "37f56daa",
   "metadata": {},
   "outputs": [
    {
     "data": {
      "text/plain": [
       "254"
      ]
     },
     "execution_count": 682,
     "metadata": {},
     "output_type": "execute_result"
    }
   ],
   "source": [
    "len(sm_X_train)"
   ]
  },
  {
   "cell_type": "code",
   "execution_count": 683,
   "id": "1a3709a0",
   "metadata": {},
   "outputs": [
    {
     "data": {
      "text/plain": [
       "35"
      ]
     },
     "execution_count": 683,
     "metadata": {},
     "output_type": "execute_result"
    }
   ],
   "source": [
    "len(X_test)"
   ]
  },
  {
   "cell_type": "code",
   "execution_count": 689,
   "id": "035329b7",
   "metadata": {},
   "outputs": [
    {
     "data": {
      "text/plain": [
       "0    127\n",
       "1    127\n",
       "Name: Egresado, dtype: int64"
      ]
     },
     "execution_count": 689,
     "metadata": {},
     "output_type": "execute_result"
    }
   ],
   "source": [
    "sm_y_train.value_counts()"
   ]
  },
  {
   "cell_type": "code",
   "execution_count": null,
   "id": "dbdf5d73",
   "metadata": {},
   "outputs": [],
   "source": [
    "predictions_sm = xgb_sm.predict(X_test)"
   ]
  },
  {
   "cell_type": "code",
   "execution_count": 687,
   "id": "734a4c37",
   "metadata": {
    "scrolled": false
   },
   "outputs": [
    {
     "name": "stdout",
     "output_type": "stream",
     "text": [
      "              precision    recall  f1-score   support\n",
      "\n",
      "           0       1.00      1.00      1.00        33\n",
      "           1       1.00      1.00      1.00         2\n",
      "\n",
      "    accuracy                           1.00        35\n",
      "   macro avg       1.00      1.00      1.00        35\n",
      "weighted avg       1.00      1.00      1.00        35\n",
      "\n"
     ]
    }
   ],
   "source": [
    "print(classification_report(y_test,predictions_sm))"
   ]
  },
  {
   "cell_type": "code",
   "execution_count": null,
   "id": "cf2fe1a7",
   "metadata": {},
   "outputs": [],
   "source": [
    "print('Training accuracy:', xgb_sm.score(sm_X_train, sm_y_train))\n",
    "print('Testing accuracy:', xgb_sm.score(X_test, y_test))"
   ]
  }
 ],
 "metadata": {
  "kernelspec": {
   "display_name": "Python 3 (ipykernel)",
   "language": "python",
   "name": "python3"
  },
  "language_info": {
   "codemirror_mode": {
    "name": "ipython",
    "version": 3
   },
   "file_extension": ".py",
   "mimetype": "text/x-python",
   "name": "python",
   "nbconvert_exporter": "python",
   "pygments_lexer": "ipython3",
   "version": "3.9.12"
  }
 },
 "nbformat": 4,
 "nbformat_minor": 5
}
